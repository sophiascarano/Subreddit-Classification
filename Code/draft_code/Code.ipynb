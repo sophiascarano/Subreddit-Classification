{
 "cells": [
  {
   "cell_type": "code",
   "execution_count": 1,
   "metadata": {},
   "outputs": [],
   "source": [
    "import pandas as pd\n",
    "import requests\n",
    "import csv\n",
    "import time\n",
    "from bs4 import BeautifulSoup"
   ]
  },
  {
   "cell_type": "code",
   "execution_count": null,
   "metadata": {},
   "outputs": [],
   "source": []
  },
  {
   "cell_type": "code",
   "execution_count": 2,
   "metadata": {},
   "outputs": [],
   "source": [
    "url = 'https://api.pushshift.io/reddit/search/submission'"
   ]
  },
  {
   "cell_type": "code",
   "execution_count": 3,
   "metadata": {},
   "outputs": [],
   "source": [
    "params = {\n",
    "    'subreddit': 'physics',\n",
    "    'size': 500,\n",
    "    'before': 1601970056  \n",
    "}"
   ]
  },
  {
   "cell_type": "code",
   "execution_count": 4,
   "metadata": {},
   "outputs": [
    {
     "data": {
      "text/plain": [
       "200"
      ]
     },
     "execution_count": 4,
     "metadata": {},
     "output_type": "execute_result"
    }
   ],
   "source": [
    "res = requests.get(url, params)\n",
    "res.status_code"
   ]
  },
  {
   "cell_type": "code",
   "execution_count": 5,
   "metadata": {},
   "outputs": [],
   "source": [
    "data = res.json()"
   ]
  },
  {
   "cell_type": "code",
   "execution_count": 6,
   "metadata": {},
   "outputs": [
    {
     "data": {
      "text/plain": [
       "100"
      ]
     },
     "execution_count": 6,
     "metadata": {},
     "output_type": "execute_result"
    }
   ],
   "source": [
    "posts = data['data']\n",
    "len(posts)"
   ]
  },
  {
   "cell_type": "markdown",
   "metadata": {},
   "source": [
    "### Why am I only getting 100?\n",
    "They changed their api"
   ]
  },
  {
   "cell_type": "code",
   "execution_count": 7,
   "metadata": {},
   "outputs": [
    {
     "data": {
      "text/plain": [
       "Index(['all_awardings', 'allow_live_comments', 'author',\n",
       "       'author_flair_css_class', 'author_flair_richtext', 'author_flair_text',\n",
       "       'author_flair_type', 'author_fullname', 'author_patreon_flair',\n",
       "       'author_premium', 'awarders', 'can_mod_post', 'contest_mode',\n",
       "       'created_utc', 'domain', 'full_link', 'gildings', 'id',\n",
       "       'is_crosspostable', 'is_meta', 'is_original_content',\n",
       "       'is_reddit_media_domain', 'is_robot_indexable', 'is_self', 'is_video',\n",
       "       'link_flair_background_color', 'link_flair_richtext',\n",
       "       'link_flair_text_color', 'link_flair_type', 'locked', 'media_only',\n",
       "       'no_follow', 'num_comments', 'num_crossposts', 'over_18',\n",
       "       'parent_whitelist_status', 'permalink', 'pinned', 'post_hint',\n",
       "       'preview', 'pwls', 'retrieved_on', 'score', 'selftext', 'send_replies',\n",
       "       'spoiler', 'stickied', 'subreddit', 'subreddit_id',\n",
       "       'subreddit_subscribers', 'subreddit_type', 'thumbnail',\n",
       "       'thumbnail_height', 'thumbnail_width', 'title', 'total_awards_received',\n",
       "       'treatment_tags', 'upvote_ratio', 'url', 'url_overridden_by_dest',\n",
       "       'whitelist_status', 'wls', 'link_flair_css_class', 'link_flair_text',\n",
       "       'media', 'media_embed', 'secure_media', 'secure_media_embed',\n",
       "       'author_flair_background_color', 'author_flair_text_color',\n",
       "       'removed_by_category', 'author_flair_template_id', 'distinguished',\n",
       "       'gallery_data', 'is_gallery', 'media_metadata'],\n",
       "      dtype='object')"
      ]
     },
     "execution_count": 7,
     "metadata": {},
     "output_type": "execute_result"
    }
   ],
   "source": [
    "posts_df = pd.DataFrame(posts)\n",
    "posts_df.columns"
   ]
  },
  {
   "cell_type": "code",
   "execution_count": 8,
   "metadata": {},
   "outputs": [
    {
     "data": {
      "text/html": [
       "<div>\n",
       "<style scoped>\n",
       "    .dataframe tbody tr th:only-of-type {\n",
       "        vertical-align: middle;\n",
       "    }\n",
       "\n",
       "    .dataframe tbody tr th {\n",
       "        vertical-align: top;\n",
       "    }\n",
       "\n",
       "    .dataframe thead th {\n",
       "        text-align: right;\n",
       "    }\n",
       "</style>\n",
       "<table border=\"1\" class=\"dataframe\">\n",
       "  <thead>\n",
       "    <tr style=\"text-align: right;\">\n",
       "      <th></th>\n",
       "      <th>subreddit</th>\n",
       "      <th>selftext</th>\n",
       "      <th>title</th>\n",
       "      <th>created_utc</th>\n",
       "    </tr>\n",
       "  </thead>\n",
       "  <tbody>\n",
       "    <tr>\n",
       "      <th>0</th>\n",
       "      <td>Physics</td>\n",
       "      <td></td>\n",
       "      <td>Acoustical and optical phonons ! Check this ar...</td>\n",
       "      <td>1601968777</td>\n",
       "    </tr>\n",
       "    <tr>\n",
       "      <th>1</th>\n",
       "      <td>Physics</td>\n",
       "      <td>Hey There! \\n\\nIm a high school physics studen...</td>\n",
       "      <td>Optical Activity, Specific Rotation and Polari...</td>\n",
       "      <td>1601967664</td>\n",
       "    </tr>\n",
       "    <tr>\n",
       "      <th>2</th>\n",
       "      <td>Physics</td>\n",
       "      <td></td>\n",
       "      <td>How can I prove current strength (i) is a Fund...</td>\n",
       "      <td>1601967618</td>\n",
       "    </tr>\n",
       "    <tr>\n",
       "      <th>3</th>\n",
       "      <td>Physics</td>\n",
       "      <td>**A plane is in a spot that is 880km due East...</td>\n",
       "      <td>Can I have some help with this question?</td>\n",
       "      <td>1601966781</td>\n",
       "    </tr>\n",
       "    <tr>\n",
       "      <th>4</th>\n",
       "      <td>Physics</td>\n",
       "      <td>Assume the penises are arranged uniformly in a...</td>\n",
       "      <td>How many erect penises would it take to fully ...</td>\n",
       "      <td>1601962026</td>\n",
       "    </tr>\n",
       "  </tbody>\n",
       "</table>\n",
       "</div>"
      ],
      "text/plain": [
       "  subreddit                                           selftext  \\\n",
       "0   Physics                                                      \n",
       "1   Physics  Hey There! \\n\\nIm a high school physics studen...   \n",
       "2   Physics                                                      \n",
       "3   Physics   **A plane is in a spot that is 880km due East...   \n",
       "4   Physics  Assume the penises are arranged uniformly in a...   \n",
       "\n",
       "                                               title  created_utc  \n",
       "0  Acoustical and optical phonons ! Check this ar...   1601968777  \n",
       "1  Optical Activity, Specific Rotation and Polari...   1601967664  \n",
       "2  How can I prove current strength (i) is a Fund...   1601967618  \n",
       "3           Can I have some help with this question?   1601966781  \n",
       "4  How many erect penises would it take to fully ...   1601962026  "
      ]
     },
     "execution_count": 8,
     "metadata": {},
     "output_type": "execute_result"
    }
   ],
   "source": [
    "#only keep columns of interest\n",
    "posts_df = posts_df[['subreddit', 'selftext', 'title', 'created_utc']]\n",
    "posts_df.head()"
   ]
  },
  {
   "cell_type": "code",
   "execution_count": 9,
   "metadata": {},
   "outputs": [
    {
     "name": "stdout",
     "output_type": "stream",
     "text": [
      "<class 'pandas.core.frame.DataFrame'>\n",
      "RangeIndex: 100 entries, 0 to 99\n",
      "Data columns (total 4 columns):\n",
      " #   Column       Non-Null Count  Dtype \n",
      "---  ------       --------------  ----- \n",
      " 0   subreddit    100 non-null    object\n",
      " 1   selftext     100 non-null    object\n",
      " 2   title        100 non-null    object\n",
      " 3   created_utc  100 non-null    int64 \n",
      "dtypes: int64(1), object(3)\n",
      "memory usage: 3.2+ KB\n"
     ]
    }
   ],
   "source": [
    "posts_df.info()\n",
    "#even though some of the selftext columns are blank, they don't return as null"
   ]
  },
  {
   "cell_type": "markdown",
   "metadata": {},
   "source": [
    "### What I'm doing here:\n",
    "- get 100 posts every week for the past 10 weeks\n",
    "- make sure that the 'selftext' and 'title' columns are real and analyzable\n",
    "    - so make sure that each one has more than 4 words\n",
    "- this will make it hard to retain as many rows as expected, so I'll have to scrape for many weeks. Maybe a year?\n"
   ]
  },
  {
   "cell_type": "code",
   "execution_count": 25,
   "metadata": {},
   "outputs": [
    {
     "data": {
      "text/plain": [
       "1205648214"
      ]
     },
     "execution_count": 25,
     "metadata": {},
     "output_type": "execute_result"
    }
   ],
   "source": [
    "#see when the earliest posts are from, and make sure to not go beyond\n",
    "url = 'https://api.pushshift.io/reddit/search/submission'\n",
    "#time = 1602126873\n",
    "params = {\n",
    "        'subreddit': 'physics',\n",
    "        'sort': 'asc'\n",
    "    }\n",
    "res = requests.get(url, params)\n",
    "data = res.json()\n",
    "posts_start = data['data']\n",
    "posts_start[1]['created_utc']\n",
    "#this is in 2008, so it should be fine if we go back a year."
   ]
  },
  {
   "cell_type": "code",
   "execution_count": 39,
   "metadata": {},
   "outputs": [],
   "source": [
    "def get_many_requests(subreddit, first_week_number, second_week_number):\n",
    "    url = 'https://api.pushshift.io/reddit/search/submission'\n",
    "    time = 1602126873-(first_week_number*604800)\n",
    "    params = {\n",
    "            'subreddit': subreddit,\n",
    "            'size': 500,\n",
    "        }\n",
    "    res = requests.get(url, params)\n",
    "    data = res.json()\n",
    "    posts_start = data['data']\n",
    "    posts_start_df = pd.DataFrame(posts_start)\n",
    "    posts_start_df = posts_start_df[['subreddit', 'selftext', 'title', 'created_utc']]\n",
    "    for i in range(first_week_number, second_week_number): #start at 1 because I just did zero above, which is what I'm concatenating on\n",
    "        params = {\n",
    "            'subreddit': subreddit,\n",
    "            'size': 500,\n",
    "            'before': time - i*604800 #for each week, it adds 604800 to the timestamp, so we're going back i number of weeks\n",
    "        }\n",
    "        res = requests.get(url, params)\n",
    "        data = res.json()\n",
    "        posts = data['data']\n",
    "        posts_df = pd.DataFrame(posts)\n",
    "        posts_start_df = pd.concat([posts_start_df, posts_df], ignore_index=True)\n",
    "        posts_start_df = posts_start_df[['subreddit', 'selftext', 'title', 'created_utc']]\n",
    "    return posts_start_df"
   ]
  },
  {
   "cell_type": "markdown",
   "metadata": {},
   "source": [
    "### Note:\n",
    "Because I can't pull more than 1000 comments at a time, I need to break up the dataframes into week chunks and then concatenate them at the end"
   ]
  },
  {
   "cell_type": "code",
   "execution_count": 133,
   "metadata": {},
   "outputs": [],
   "source": [
    "def get_posts(subreddit, n_iter, epoch_right_now): # subreddit name and number of times function should run\n",
    "    # store base url variable\n",
    "    base_url = 'https://api.pushshift.io/reddit/search/submission/?subreddit='\n",
    "    # instantiate empty list    \n",
    "    df_list = []\n",
    "    # save current epoch, used to iterate in reverse through time\n",
    "    current_time = epoch_right_now\n",
    "    # set up for loop\n",
    "    while len(df_list) < 10:\n",
    "        # instantiate get request\n",
    "        res = requests.get(\n",
    "            # requests.get takes base_url and params\n",
    "            base_url,\n",
    "            # parameters for get request\n",
    "            params = {\n",
    "                # specify subreddit\n",
    "                'subreddit' : subreddit,\n",
    "                # specify number of posts to pull\n",
    "                'size' : 100,\n",
    "                # ???\n",
    "                'lang' : True,\n",
    "                # pull everything from current time backward\n",
    "                'before' : current_time }\n",
    "        )\n",
    "        # take data from most recent request, store as df\n",
    "        df = pd.DataFrame(res.json()['data'])\n",
    "        # pull specific columns from dataframe for analysis\n",
    "        df = df.loc[:, ['subreddit', 'selftext', 'title', 'created_utc']]\n",
    "        df_drop = df.loc[df['selftext'].str.split().str.len() > 4]\n",
    "        df_drop = df_drop.loc[df_drop['title'].str.split().str.len() > 4]\n",
    "        df_drop = df_drop.drop_duplicates()\n",
    "        # append to empty dataframe list\n",
    "        df_list.append(df_drop)\n",
    "        # add wait time\n",
    "        time.sleep(30)\n",
    "        # set current time counter back to last epoch in recently grabbed df\n",
    "        current_time = df_drop['created_utc'].min()\n",
    "    # return one dataframe for all requests\n",
    "    return pd.concat(df_list, axis=0)\n",
    "# Adapated from Tim Book's Lesson Example"
   ]
  },
  {
   "cell_type": "code",
   "execution_count": 134,
   "metadata": {},
   "outputs": [
    {
     "ename": "KeyboardInterrupt",
     "evalue": "",
     "output_type": "error",
     "traceback": [
      "\u001b[0;31m---------------------------------------------------------------------------\u001b[0m",
      "\u001b[0;31mKeyboardInterrupt\u001b[0m                         Traceback (most recent call last)",
      "\u001b[0;32m<ipython-input-134-43875a697251>\u001b[0m in \u001b[0;36m<module>\u001b[0;34m\u001b[0m\n\u001b[0;32m----> 1\u001b[0;31m \u001b[0mdf\u001b[0m \u001b[0;34m=\u001b[0m \u001b[0mget_posts\u001b[0m\u001b[0;34m(\u001b[0m\u001b[0;34m'physics'\u001b[0m\u001b[0;34m,\u001b[0m \u001b[0;36m4\u001b[0m\u001b[0;34m,\u001b[0m \u001b[0;36m1602126873\u001b[0m\u001b[0;34m)\u001b[0m\u001b[0;34m\u001b[0m\u001b[0;34m\u001b[0m\u001b[0m\n\u001b[0m",
      "\u001b[0;32m<ipython-input-133-69530a18c338>\u001b[0m in \u001b[0;36mget_posts\u001b[0;34m(subreddit, n_iter, epoch_right_now)\u001b[0m\n\u001b[1;32m     33\u001b[0m         \u001b[0mdf_list\u001b[0m\u001b[0;34m.\u001b[0m\u001b[0mappend\u001b[0m\u001b[0;34m(\u001b[0m\u001b[0mdf_drop\u001b[0m\u001b[0;34m)\u001b[0m\u001b[0;34m\u001b[0m\u001b[0;34m\u001b[0m\u001b[0m\n\u001b[1;32m     34\u001b[0m         \u001b[0;31m# add wait time\u001b[0m\u001b[0;34m\u001b[0m\u001b[0;34m\u001b[0m\u001b[0;34m\u001b[0m\u001b[0m\n\u001b[0;32m---> 35\u001b[0;31m         \u001b[0mtime\u001b[0m\u001b[0;34m.\u001b[0m\u001b[0msleep\u001b[0m\u001b[0;34m(\u001b[0m\u001b[0;36m30\u001b[0m\u001b[0;34m)\u001b[0m\u001b[0;34m\u001b[0m\u001b[0;34m\u001b[0m\u001b[0m\n\u001b[0m\u001b[1;32m     36\u001b[0m         \u001b[0;31m# set current time counter back to last epoch in recently grabbed df\u001b[0m\u001b[0;34m\u001b[0m\u001b[0;34m\u001b[0m\u001b[0;34m\u001b[0m\u001b[0m\n\u001b[1;32m     37\u001b[0m         \u001b[0mcurrent_time\u001b[0m \u001b[0;34m=\u001b[0m \u001b[0mdf_drop\u001b[0m\u001b[0;34m[\u001b[0m\u001b[0;34m'created_utc'\u001b[0m\u001b[0;34m]\u001b[0m\u001b[0;34m.\u001b[0m\u001b[0mmin\u001b[0m\u001b[0;34m(\u001b[0m\u001b[0;34m)\u001b[0m\u001b[0;34m\u001b[0m\u001b[0;34m\u001b[0m\u001b[0m\n",
      "\u001b[0;31mKeyboardInterrupt\u001b[0m: "
     ]
    }
   ],
   "source": [
    "df = get_posts('physics', 4, 1602126873)"
   ]
  },
  {
   "cell_type": "code",
   "execution_count": 18,
   "metadata": {},
   "outputs": [],
   "source": [
    "df.head()"
   ]
  },
  {
   "cell_type": "code",
   "execution_count": 135,
   "metadata": {},
   "outputs": [],
   "source": [
    "def get_posts(subreddit, n_iter, epoch_right_now): # subreddit name and number of times function should run\n",
    "    # store base url variable\n",
    "    base_url = 'https://api.pushshift.io/reddit/search/submission/?subreddit='\n",
    "    # instantiate empty list    \n",
    "    df_list = []\n",
    "    # save current epoch, used to iterate in reverse through time\n",
    "    current_time = epoch_right_now\n",
    "    # set up for loop\n",
    "    for post in range(n_iter):\n",
    "        # instantiate get request\n",
    "        res = requests.get(\n",
    "            # requests.get takes base_url and params\n",
    "            base_url,\n",
    "            # parameters for get request\n",
    "            params = {\n",
    "                # specify subreddit\n",
    "                'subreddit' : subreddit,\n",
    "                # specify number of posts to pull\n",
    "                'size' : 100,\n",
    "                # ???\n",
    "                'lang' : True,\n",
    "                # pull everything from current time backward\n",
    "                'before' : current_time }\n",
    "        )\n",
    "        # take data from most recent request, store as df\n",
    "        df = pd.DataFrame(res.json()['data'])\n",
    "        # pull specific columns from dataframe for analysis\n",
    "        df = df.loc[:, ['subreddit', 'selftext', 'title', 'created_utc']]\n",
    "        df_drop = df.loc[df['selftext'].str.split().str.len() > 4]\n",
    "        df_drop = df_drop.loc[df_drop['title'].str.split().str.len() > 4]\n",
    "        df_drop = df_drop.drop_duplicates()\n",
    "        # append to empty dataframe list\n",
    "        df_list.append(df_drop)\n",
    "        # add wait time\n",
    "        time.sleep(30)\n",
    "        # set current time counter back to last epoch in recently grabbed df\n",
    "        current_time = df_drop['created_utc'].min()\n",
    "    # return one dataframe for all requests\n",
    "    #return pd.concat(df_list, axis=0)\n",
    "    return len(df_list)\n",
    "# Adapated from Tim Book's Lesson Example"
   ]
  },
  {
   "cell_type": "code",
   "execution_count": 136,
   "metadata": {},
   "outputs": [],
   "source": [
    "df = get_posts('physics', 4, 1602126873)"
   ]
  },
  {
   "cell_type": "code",
   "execution_count": 137,
   "metadata": {},
   "outputs": [
    {
     "data": {
      "text/plain": [
       "4"
      ]
     },
     "execution_count": 137,
     "metadata": {},
     "output_type": "execute_result"
    }
   ],
   "source": [
    "df"
   ]
  },
  {
   "cell_type": "code",
   "execution_count": 130,
   "metadata": {},
   "outputs": [
    {
     "name": "stdout",
     "output_type": "stream",
     "text": [
      "<class 'pandas.core.frame.DataFrame'>\n",
      "Int64Index: 337 entries, 2 to 96\n",
      "Data columns (total 4 columns):\n",
      " #   Column       Non-Null Count  Dtype \n",
      "---  ------       --------------  ----- \n",
      " 0   subreddit    337 non-null    object\n",
      " 1   selftext     337 non-null    object\n",
      " 2   title        337 non-null    object\n",
      " 3   created_utc  337 non-null    int64 \n",
      "dtypes: int64(1), object(3)\n",
      "memory usage: 13.2+ KB\n"
     ]
    }
   ],
   "source": [
    "df.info()"
   ]
  },
  {
   "cell_type": "code",
   "execution_count": 116,
   "metadata": {},
   "outputs": [
    {
     "data": {
      "text/html": [
       "<div>\n",
       "<style scoped>\n",
       "    .dataframe tbody tr th:only-of-type {\n",
       "        vertical-align: middle;\n",
       "    }\n",
       "\n",
       "    .dataframe tbody tr th {\n",
       "        vertical-align: top;\n",
       "    }\n",
       "\n",
       "    .dataframe thead th {\n",
       "        text-align: right;\n",
       "    }\n",
       "</style>\n",
       "<table border=\"1\" class=\"dataframe\">\n",
       "  <thead>\n",
       "    <tr style=\"text-align: right;\">\n",
       "      <th></th>\n",
       "      <th>title</th>\n",
       "      <th>created_utc</th>\n",
       "      <th>selftext</th>\n",
       "      <th>subreddit</th>\n",
       "      <th>author</th>\n",
       "      <th>media_only</th>\n",
       "      <th>permalink</th>\n",
       "    </tr>\n",
       "  </thead>\n",
       "  <tbody>\n",
       "    <tr>\n",
       "      <th>90</th>\n",
       "      <td>equation I can't figure out</td>\n",
       "      <td>1601484418</td>\n",
       "      <td>Hello so i was doing some work and found a phy...</td>\n",
       "      <td>Physics</td>\n",
       "      <td>Kal-Skirata69</td>\n",
       "      <td>False</td>\n",
       "      <td>/r/Physics/comments/j2psm6/equation_i_cant_fig...</td>\n",
       "    </tr>\n",
       "    <tr>\n",
       "      <th>91</th>\n",
       "      <td>Simulation of Young's double slit experiment</td>\n",
       "      <td>1601482914</td>\n",
       "      <td>Python Code to produce simulation: \\n\\nPart 1:...</td>\n",
       "      <td>Physics</td>\n",
       "      <td>Instantinopaul</td>\n",
       "      <td>False</td>\n",
       "      <td>/r/Physics/comments/j2pazo/simulation_of_young...</td>\n",
       "    </tr>\n",
       "    <tr>\n",
       "      <th>92</th>\n",
       "      <td>[Question] Why, in optics, do we measure the a...</td>\n",
       "      <td>1601482695</td>\n",
       "      <td>Title.   \\nI've been wondering why the measure...</td>\n",
       "      <td>Physics</td>\n",
       "      <td>Paradox343</td>\n",
       "      <td>False</td>\n",
       "      <td>/r/Physics/comments/j2p8is/question_why_in_opt...</td>\n",
       "    </tr>\n",
       "    <tr>\n",
       "      <th>97</th>\n",
       "      <td>How can I study Physics?</td>\n",
       "      <td>1601475631</td>\n",
       "      <td>Hi all decent Physics people :D I just joined ...</td>\n",
       "      <td>Physics</td>\n",
       "      <td>GalynMusic</td>\n",
       "      <td>False</td>\n",
       "      <td>/r/Physics/comments/j2n0ek/how_can_i_study_phy...</td>\n",
       "    </tr>\n",
       "    <tr>\n",
       "      <th>98</th>\n",
       "      <td>Quantum Physics and consciousness question for...</td>\n",
       "      <td>1601472767</td>\n",
       "      <td>So, I am doing some research about an app call...</td>\n",
       "      <td>Physics</td>\n",
       "      <td>NyaCrea</td>\n",
       "      <td>False</td>\n",
       "      <td>/r/Physics/comments/j2m6ca/quantum_physics_and...</td>\n",
       "    </tr>\n",
       "  </tbody>\n",
       "</table>\n",
       "</div>"
      ],
      "text/plain": [
       "                                                title  created_utc  \\\n",
       "90                        equation I can't figure out   1601484418   \n",
       "91       Simulation of Young's double slit experiment   1601482914   \n",
       "92  [Question] Why, in optics, do we measure the a...   1601482695   \n",
       "97                           How can I study Physics?   1601475631   \n",
       "98  Quantum Physics and consciousness question for...   1601472767   \n",
       "\n",
       "                                             selftext subreddit  \\\n",
       "90  Hello so i was doing some work and found a phy...   Physics   \n",
       "91  Python Code to produce simulation: \\n\\nPart 1:...   Physics   \n",
       "92  Title.   \\nI've been wondering why the measure...   Physics   \n",
       "97  Hi all decent Physics people :D I just joined ...   Physics   \n",
       "98  So, I am doing some research about an app call...   Physics   \n",
       "\n",
       "            author  media_only  \\\n",
       "90   Kal-Skirata69       False   \n",
       "91  Instantinopaul       False   \n",
       "92      Paradox343       False   \n",
       "97      GalynMusic       False   \n",
       "98         NyaCrea       False   \n",
       "\n",
       "                                            permalink  \n",
       "90  /r/Physics/comments/j2psm6/equation_i_cant_fig...  \n",
       "91  /r/Physics/comments/j2pazo/simulation_of_young...  \n",
       "92  /r/Physics/comments/j2p8is/question_why_in_opt...  \n",
       "97  /r/Physics/comments/j2n0ek/how_can_i_study_phy...  \n",
       "98  /r/Physics/comments/j2m6ca/quantum_physics_and...  "
      ]
     },
     "execution_count": 116,
     "metadata": {},
     "output_type": "execute_result"
    }
   ],
   "source": [
    "df_drop = df.loc[df['selftext'].str.split().str.len() > 4]\n",
    "df_drop = df_drop.loc[df_drop['title'].str.split().str.len() > 4]\n",
    "df_drop = df_drop.drop_duplicates()\n",
    "df_drop.tail()"
   ]
  },
  {
   "cell_type": "code",
   "execution_count": 104,
   "metadata": {},
   "outputs": [
    {
     "data": {
      "text/plain": [
       "[11, 21, 31]"
      ]
     },
     "execution_count": 104,
     "metadata": {},
     "output_type": "execute_result"
    }
   ],
   "source": [
    "def get_weekly_requests(subreddit, max_weeks):\n",
    "    #specify a list that's every 10, up till max weeks, starting from 10 (10, 20, 30, 40)\n",
    "    list_a = list(range(10, max_weeks+1, 10))\n",
    "    #specify a list that's every 10, starting from 1 (1, 11, 21, 31)\n",
    "    list_b = list(range(1, max_weeks+1, 10))\n",
    "    #get requests from the days between each of the values in the list\n",
    "    df_init = pd.DataFrame()\n",
    "    new_lis = []\n",
    "    for x in range(len(list_a)):\n",
    "        new_lis.append(list_a[x]+1)\n",
    "    return new_lis\n",
    "    \n",
    "get_weekly_requests('subreddit', 30)"
   ]
  },
  {
   "cell_type": "code",
   "execution_count": 138,
   "metadata": {},
   "outputs": [],
   "source": [
    "#try to automate:\n",
    "def get_weekly_requests(subreddit, max_weeks):\n",
    "    #specify a list that's every 10, up till max weeks, starting from 10 (10, 20, 30, 40)\n",
    "    list_a = list(range(10, max_weeks+1, 10))\n",
    "    list_a_minus_one = list(range(9, max_weeks+1, 10))\n",
    "    #specify a list that's every 10, starting from 1 (1, 11, 21, 31)\n",
    "    list_b = list(range(1, max_weeks+1, 10))\n",
    "    list_b_plus_one = list(range(2, max_weeks+1, 10))\n",
    "    #get requests from the days between each of the values in the list\n",
    "    df_init = pd.DataFrame()\n",
    "    for x in range(len(list_a)):\n",
    "        try:\n",
    "            df = get_many_requests(subreddit=subreddit, first_week_number=list_b[x], second_week_number=list_a[x])\n",
    "\n",
    "            df_drop = df.loc[df['selftext'].str.split().str.len() > 4]\n",
    "            df_drop = df_drop.loc[df_drop['title'].str.split().str.len() > 4]\n",
    "            df_drop = df_drop.drop_duplicates()\n",
    "\n",
    "            df_init = pd.concat([df_init, df_drop], ignore_index=True)\n",
    "        except:\n",
    "            pass\n",
    "        try:\n",
    "            df = get_many_requests(subreddit=subreddit, first_week_number=list_b_plus_one[x], second_week_number=list_a_minus_one[x])\n",
    "\n",
    "            df_drop = df.loc[df['selftext'].str.split().str.len() > 4]\n",
    "            df_drop = df_drop.loc[df_drop['title'].str.split().str.len() > 4]\n",
    "            df_drop = df_drop.drop_duplicates()\n",
    "\n",
    "            df_init = pd.concat([df_init, df_drop], ignore_index=True)\n",
    "        except:\n",
    "            pass\n",
    "        \n",
    "        \n",
    "    return df_init"
   ]
  },
  {
   "cell_type": "code",
   "execution_count": 139,
   "metadata": {},
   "outputs": [],
   "source": [
    "df_phys = get_weekly_requests('physics', 60)"
   ]
  },
  {
   "cell_type": "code",
   "execution_count": 140,
   "metadata": {},
   "outputs": [
    {
     "name": "stdout",
     "output_type": "stream",
     "text": [
      "<class 'pandas.core.frame.DataFrame'>\n",
      "RangeIndex: 355 entries, 0 to 354\n",
      "Data columns (total 4 columns):\n",
      " #   Column       Non-Null Count  Dtype \n",
      "---  ------       --------------  ----- \n",
      " 0   subreddit    355 non-null    object\n",
      " 1   selftext     355 non-null    object\n",
      " 2   title        355 non-null    object\n",
      " 3   created_utc  355 non-null    int64 \n",
      "dtypes: int64(1), object(3)\n",
      "memory usage: 11.2+ KB\n"
     ]
    }
   ],
   "source": [
    "df_phys.info()"
   ]
  },
  {
   "cell_type": "code",
   "execution_count": 53,
   "metadata": {},
   "outputs": [
    {
     "name": "stdout",
     "output_type": "stream",
     "text": [
      "<class 'pandas.core.frame.DataFrame'>\n",
      "Int64Index: 351 entries, 1 to 999\n",
      "Data columns (total 4 columns):\n",
      " #   Column       Non-Null Count  Dtype \n",
      "---  ------       --------------  ----- \n",
      " 0   subreddit    351 non-null    object\n",
      " 1   selftext     351 non-null    object\n",
      " 2   title        351 non-null    object\n",
      " 3   created_utc  351 non-null    int64 \n",
      "dtypes: int64(1), object(3)\n",
      "memory usage: 13.7+ KB\n"
     ]
    }
   ],
   "source": [
    "phys_df_0_10 = get_many_requests('physics', 1, 10)\n",
    "phys_df_drop_0_10 = phys_df_0_10.loc[phys_df_0_10['selftext'].str.split().str.len() > 4]\n",
    "phys_df_drop_0_10 = phys_df_drop_0_10.loc[phys_df_drop_0_10['title'].str.split().str.len() > 4]\n",
    "phys_df_drop_0_10 = phys_df_drop_0_10.drop_duplicates()\n",
    "phys_df_drop_0_10.info()"
   ]
  },
  {
   "cell_type": "code",
   "execution_count": 55,
   "metadata": {},
   "outputs": [
    {
     "name": "stdout",
     "output_type": "stream",
     "text": [
      "<class 'pandas.core.frame.DataFrame'>\n",
      "Int64Index: 234 entries, 1 to 897\n",
      "Data columns (total 4 columns):\n",
      " #   Column       Non-Null Count  Dtype \n",
      "---  ------       --------------  ----- \n",
      " 0   subreddit    234 non-null    object\n",
      " 1   selftext     234 non-null    object\n",
      " 2   title        234 non-null    object\n",
      " 3   created_utc  234 non-null    int64 \n",
      "dtypes: int64(1), object(3)\n",
      "memory usage: 9.1+ KB\n"
     ]
    }
   ],
   "source": [
    "#keep only the rows that have more than 4 words in each column\n",
    "phys_df_10_19 = get_many_requests('physics', 11, 19)\n",
    "phys_df_drop_10_19 = phys_df_10_19.loc[phys_df_10_19['selftext'].str.split().str.len() > 4]\n",
    "phys_df_drop_10_19 = phys_df_drop_10_19.loc[phys_df_drop_10_19['title'].str.split().str.len() > 4]\n",
    "phys_df_drop_10_19 = phys_df_drop_10_19.drop_duplicates()\n",
    "phys_df_drop_10_19.info()"
   ]
  },
  {
   "cell_type": "code",
   "execution_count": 110,
   "metadata": {},
   "outputs": [
    {
     "name": "stdout",
     "output_type": "stream",
     "text": [
      "<class 'pandas.core.frame.DataFrame'>\n",
      "Int64Index: 318 entries, 1 to 898\n",
      "Data columns (total 4 columns):\n",
      " #   Column       Non-Null Count  Dtype \n",
      "---  ------       --------------  ----- \n",
      " 0   subreddit    318 non-null    object\n",
      " 1   selftext     318 non-null    object\n",
      " 2   title        318 non-null    object\n",
      " 3   created_utc  318 non-null    int64 \n",
      "dtypes: int64(1), object(3)\n",
      "memory usage: 12.4+ KB\n"
     ]
    }
   ],
   "source": [
    "phys_df_20_29 = get_many_requests('physics', 21, 29)\n",
    "phys_df_drop_20_29 = phys_df_20_29.loc[phys_df_20_29['selftext'].str.split().str.len() > 4]\n",
    "phys_df_drop_20_29 = phys_df_drop_20_29.loc[phys_df_drop_20_29['title'].str.split().str.len() > 4]\n",
    "phys_df_drop_20_29 = phys_df_drop_20_29.drop_duplicates()\n",
    "phys_df_drop_20_29.info()"
   ]
  },
  {
   "cell_type": "code",
   "execution_count": 58,
   "metadata": {},
   "outputs": [
    {
     "name": "stdout",
     "output_type": "stream",
     "text": [
      "<class 'pandas.core.frame.DataFrame'>\n",
      "Int64Index: 274 entries, 0 to 899\n",
      "Data columns (total 4 columns):\n",
      " #   Column       Non-Null Count  Dtype \n",
      "---  ------       --------------  ----- \n",
      " 0   subreddit    274 non-null    object\n",
      " 1   selftext     274 non-null    object\n",
      " 2   title        274 non-null    object\n",
      " 3   created_utc  274 non-null    int64 \n",
      "dtypes: int64(1), object(3)\n",
      "memory usage: 10.7+ KB\n"
     ]
    }
   ],
   "source": [
    "phys_df_30_39 = get_many_requests('physics', 31, 39)\n",
    "phys_df_drop_30_39 = phys_df_30_39.loc[phys_df_30_39['selftext'].str.split().str.len() > 4]\n",
    "phys_df_drop_30_39 = phys_df_drop_30_39.loc[phys_df_drop_30_39['title'].str.split().str.len() > 4]\n",
    "phys_df_drop_30_39 = phys_df_drop_30_39.drop_duplicates()\n",
    "phys_df_drop_30_39.info()"
   ]
  },
  {
   "cell_type": "code",
   "execution_count": 59,
   "metadata": {},
   "outputs": [
    {
     "name": "stdout",
     "output_type": "stream",
     "text": [
      "<class 'pandas.core.frame.DataFrame'>\n",
      "Int64Index: 301 entries, 0 to 999\n",
      "Data columns (total 4 columns):\n",
      " #   Column       Non-Null Count  Dtype \n",
      "---  ------       --------------  ----- \n",
      " 0   subreddit    301 non-null    object\n",
      " 1   selftext     301 non-null    object\n",
      " 2   title        301 non-null    object\n",
      " 3   created_utc  301 non-null    int64 \n",
      "dtypes: int64(1), object(3)\n",
      "memory usage: 11.8+ KB\n"
     ]
    }
   ],
   "source": [
    "phys_df_40_49 = get_many_requests('physics', 40, 49)\n",
    "phys_df_drop_40_49 = phys_df_40_49.loc[phys_df_40_49['selftext'].str.split().str.len() > 4]\n",
    "phys_df_drop_40_49 = phys_df_drop_40_49.loc[phys_df_drop_40_49['title'].str.split().str.len() > 4]\n",
    "phys_df_drop_40_49 = phys_df_drop_40_49.drop_duplicates()\n",
    "phys_df_drop_40_49.info()"
   ]
  },
  {
   "cell_type": "code",
   "execution_count": 60,
   "metadata": {},
   "outputs": [
    {
     "name": "stdout",
     "output_type": "stream",
     "text": [
      "<class 'pandas.core.frame.DataFrame'>\n",
      "Int64Index: 329 entries, 0 to 997\n",
      "Data columns (total 4 columns):\n",
      " #   Column       Non-Null Count  Dtype \n",
      "---  ------       --------------  ----- \n",
      " 0   subreddit    329 non-null    object\n",
      " 1   selftext     329 non-null    object\n",
      " 2   title        329 non-null    object\n",
      " 3   created_utc  329 non-null    int64 \n",
      "dtypes: int64(1), object(3)\n",
      "memory usage: 12.9+ KB\n"
     ]
    }
   ],
   "source": [
    "phys_df_50_59 = get_many_requests('physics', 50, 59)\n",
    "phys_df_drop_50_59 = phys_df_50_59.loc[phys_df_50_59['selftext'].str.split().str.len() > 4]\n",
    "phys_df_drop_50_59 = phys_df_drop_50_59.loc[phys_df_drop_50_59['title'].str.split().str.len() > 4]\n",
    "phys_df_drop_50_59 = phys_df_drop_50_59.drop_duplicates()\n",
    "phys_df_drop_50_59.info()"
   ]
  },
  {
   "cell_type": "code",
   "execution_count": 63,
   "metadata": {},
   "outputs": [],
   "source": [
    "#now concatenate all of these to get one final dataframe\n",
    "phys_df = pd.concat([phys_df_drop_0_10, \n",
    "                     phys_df_drop_10_19, \n",
    "                     phys_df_drop_20_29, \n",
    "                     phys_df_drop_30_39,\n",
    "                     phys_df_drop_40_49,\n",
    "                     phys_df_drop_50_59\n",
    "                    ], ignore_index=True)"
   ]
  },
  {
   "cell_type": "code",
   "execution_count": 64,
   "metadata": {},
   "outputs": [
    {
     "name": "stdout",
     "output_type": "stream",
     "text": [
      "<class 'pandas.core.frame.DataFrame'>\n",
      "RangeIndex: 1833 entries, 0 to 1832\n",
      "Data columns (total 4 columns):\n",
      " #   Column       Non-Null Count  Dtype \n",
      "---  ------       --------------  ----- \n",
      " 0   subreddit    1833 non-null   object\n",
      " 1   selftext     1833 non-null   object\n",
      " 2   title        1833 non-null   object\n",
      " 3   created_utc  1833 non-null   int64 \n",
      "dtypes: int64(1), object(3)\n",
      "memory usage: 57.4+ KB\n"
     ]
    }
   ],
   "source": [
    "phys_df.info()"
   ]
  },
  {
   "cell_type": "code",
   "execution_count": null,
   "metadata": {},
   "outputs": [],
   "source": []
  },
  {
   "cell_type": "code",
   "execution_count": null,
   "metadata": {},
   "outputs": [],
   "source": []
  },
  {
   "cell_type": "code",
   "execution_count": null,
   "metadata": {},
   "outputs": [],
   "source": []
  },
  {
   "cell_type": "code",
   "execution_count": 73,
   "metadata": {},
   "outputs": [
    {
     "name": "stdout",
     "output_type": "stream",
     "text": [
      "<class 'pandas.core.frame.DataFrame'>\n",
      "Int64Index: 303 entries, 0 to 996\n",
      "Data columns (total 4 columns):\n",
      " #   Column       Non-Null Count  Dtype \n",
      "---  ------       --------------  ----- \n",
      " 0   subreddit    303 non-null    object\n",
      " 1   selftext     303 non-null    object\n",
      " 2   title        303 non-null    object\n",
      " 3   created_utc  303 non-null    int64 \n",
      "dtypes: int64(1), object(3)\n",
      "memory usage: 11.8+ KB\n"
     ]
    }
   ],
   "source": [
    "chem_df_0_10 = get_many_requests('chemistry', 1, 10)\n",
    "chem_df_drop_0_10 = chem_df_0_10.loc[chem_df_0_10['selftext'].str.split().str.len() > 4]\n",
    "chem_df_drop_0_10 = chem_df_drop_0_10.loc[chem_df_drop_0_10['title'].str.split().str.len() > 4]\n",
    "chem_df_drop_0_10 = chem_df_drop_0_10.drop_duplicates()\n",
    "chem_df_drop_0_10.info()"
   ]
  },
  {
   "cell_type": "code",
   "execution_count": 74,
   "metadata": {},
   "outputs": [
    {
     "name": "stdout",
     "output_type": "stream",
     "text": [
      "<class 'pandas.core.frame.DataFrame'>\n",
      "Int64Index: 254 entries, 0 to 898\n",
      "Data columns (total 4 columns):\n",
      " #   Column       Non-Null Count  Dtype \n",
      "---  ------       --------------  ----- \n",
      " 0   subreddit    254 non-null    object\n",
      " 1   selftext     254 non-null    object\n",
      " 2   title        254 non-null    object\n",
      " 3   created_utc  254 non-null    int64 \n",
      "dtypes: int64(1), object(3)\n",
      "memory usage: 9.9+ KB\n"
     ]
    }
   ],
   "source": [
    "chem_df_10_19 = get_many_requests('chemistry', 11, 19)\n",
    "chem_df_drop_10_19 = chem_df_10_19.loc[chem_df_10_19['selftext'].str.split().str.len() > 4]\n",
    "chem_df_drop_10_19 = chem_df_drop_10_19.loc[chem_df_drop_10_19['title'].str.split().str.len() > 4]\n",
    "chem_df_drop_10_19 = chem_df_drop_10_19.drop_duplicates()\n",
    "chem_df_drop_10_19.info()"
   ]
  },
  {
   "cell_type": "code",
   "execution_count": 75,
   "metadata": {},
   "outputs": [
    {
     "name": "stdout",
     "output_type": "stream",
     "text": [
      "<class 'pandas.core.frame.DataFrame'>\n",
      "Int64Index: 318 entries, 0 to 999\n",
      "Data columns (total 4 columns):\n",
      " #   Column       Non-Null Count  Dtype \n",
      "---  ------       --------------  ----- \n",
      " 0   subreddit    318 non-null    object\n",
      " 1   selftext     318 non-null    object\n",
      " 2   title        318 non-null    object\n",
      " 3   created_utc  318 non-null    int64 \n",
      "dtypes: int64(1), object(3)\n",
      "memory usage: 12.4+ KB\n"
     ]
    }
   ],
   "source": [
    "chem_df_20_29 = get_many_requests('chemistry', 20, 29)\n",
    "chem_df_drop_20_29 = chem_df_20_29.loc[chem_df_20_29['selftext'].str.split().str.len() > 4]\n",
    "chem_df_drop_20_29 = chem_df_drop_20_29.loc[chem_df_drop_20_29['title'].str.split().str.len() > 4]\n",
    "chem_df_drop_20_29 = chem_df_drop_20_29.drop_duplicates()\n",
    "chem_df_drop_20_29.info()"
   ]
  },
  {
   "cell_type": "code",
   "execution_count": 76,
   "metadata": {},
   "outputs": [
    {
     "name": "stdout",
     "output_type": "stream",
     "text": [
      "<class 'pandas.core.frame.DataFrame'>\n",
      "Int64Index: 342 entries, 0 to 898\n",
      "Data columns (total 4 columns):\n",
      " #   Column       Non-Null Count  Dtype \n",
      "---  ------       --------------  ----- \n",
      " 0   subreddit    342 non-null    object\n",
      " 1   selftext     342 non-null    object\n",
      " 2   title        342 non-null    object\n",
      " 3   created_utc  342 non-null    int64 \n",
      "dtypes: int64(1), object(3)\n",
      "memory usage: 13.4+ KB\n"
     ]
    }
   ],
   "source": [
    "chem_df_30_39 = get_many_requests('chemistry', 31, 39)\n",
    "chem_df_drop_30_39 = chem_df_30_39.loc[chem_df_30_39['selftext'].str.split().str.len() > 4]\n",
    "chem_df_drop_30_39 = chem_df_drop_30_39.loc[chem_df_drop_30_39['title'].str.split().str.len() > 4]\n",
    "chem_df_drop_30_39 = chem_df_drop_30_39.drop_duplicates()\n",
    "chem_df_drop_30_39.info()"
   ]
  },
  {
   "cell_type": "code",
   "execution_count": 77,
   "metadata": {},
   "outputs": [
    {
     "name": "stdout",
     "output_type": "stream",
     "text": [
      "<class 'pandas.core.frame.DataFrame'>\n",
      "Int64Index: 381 entries, 0 to 998\n",
      "Data columns (total 4 columns):\n",
      " #   Column       Non-Null Count  Dtype \n",
      "---  ------       --------------  ----- \n",
      " 0   subreddit    381 non-null    object\n",
      " 1   selftext     381 non-null    object\n",
      " 2   title        381 non-null    object\n",
      " 3   created_utc  381 non-null    int64 \n",
      "dtypes: int64(1), object(3)\n",
      "memory usage: 14.9+ KB\n"
     ]
    }
   ],
   "source": [
    "chem_df_40_49 = get_many_requests('chemistry', 40, 49)\n",
    "chem_df_drop_40_49 = chem_df_40_49.loc[chem_df_40_49['selftext'].str.split().str.len() > 4]\n",
    "chem_df_drop_40_49 = chem_df_drop_40_49.loc[chem_df_drop_40_49['title'].str.split().str.len() > 4]\n",
    "chem_df_drop_40_49 = chem_df_drop_40_49.drop_duplicates()\n",
    "chem_df_drop_40_49.info()"
   ]
  },
  {
   "cell_type": "code",
   "execution_count": 79,
   "metadata": {},
   "outputs": [
    {
     "name": "stdout",
     "output_type": "stream",
     "text": [
      "<class 'pandas.core.frame.DataFrame'>\n",
      "Int64Index: 382 entries, 0 to 898\n",
      "Data columns (total 4 columns):\n",
      " #   Column       Non-Null Count  Dtype \n",
      "---  ------       --------------  ----- \n",
      " 0   subreddit    382 non-null    object\n",
      " 1   selftext     382 non-null    object\n",
      " 2   title        382 non-null    object\n",
      " 3   created_utc  382 non-null    int64 \n",
      "dtypes: int64(1), object(3)\n",
      "memory usage: 14.9+ KB\n"
     ]
    }
   ],
   "source": [
    "chem_df_50_59 = get_many_requests('chemistry', 51, 59)\n",
    "chem_df_drop_50_59 = chem_df_50_59.loc[chem_df_50_59['selftext'].str.split().str.len() > 4]\n",
    "chem_df_drop_50_59 = chem_df_drop_50_59.loc[chem_df_drop_50_59['title'].str.split().str.len() > 4]\n",
    "chem_df_drop_50_59 = chem_df_drop_50_59.drop_duplicates()\n",
    "chem_df_drop_50_59.info()"
   ]
  },
  {
   "cell_type": "code",
   "execution_count": 80,
   "metadata": {},
   "outputs": [],
   "source": [
    "chem_df = pd.concat([chem_df_drop_0_10, \n",
    "                     chem_df_drop_10_19, \n",
    "                     chem_df_drop_20_29, \n",
    "                     chem_df_drop_30_39,\n",
    "                     chem_df_drop_40_49,\n",
    "                     chem_df_drop_50_59\n",
    "                    ], ignore_index=True)"
   ]
  },
  {
   "cell_type": "code",
   "execution_count": 81,
   "metadata": {},
   "outputs": [
    {
     "name": "stdout",
     "output_type": "stream",
     "text": [
      "<class 'pandas.core.frame.DataFrame'>\n",
      "RangeIndex: 1980 entries, 0 to 1979\n",
      "Data columns (total 4 columns):\n",
      " #   Column       Non-Null Count  Dtype \n",
      "---  ------       --------------  ----- \n",
      " 0   subreddit    1980 non-null   object\n",
      " 1   selftext     1980 non-null   object\n",
      " 2   title        1980 non-null   object\n",
      " 3   created_utc  1980 non-null   int64 \n",
      "dtypes: int64(1), object(3)\n",
      "memory usage: 62.0+ KB\n"
     ]
    }
   ],
   "source": [
    "chem_df.info()"
   ]
  },
  {
   "cell_type": "code",
   "execution_count": 82,
   "metadata": {},
   "outputs": [],
   "source": [
    "df_clean = pd.concat([phys_df, chem_df], ignore_index=True)"
   ]
  },
  {
   "cell_type": "code",
   "execution_count": 83,
   "metadata": {},
   "outputs": [
    {
     "name": "stdout",
     "output_type": "stream",
     "text": [
      "<class 'pandas.core.frame.DataFrame'>\n",
      "RangeIndex: 3813 entries, 0 to 3812\n",
      "Data columns (total 4 columns):\n",
      " #   Column       Non-Null Count  Dtype \n",
      "---  ------       --------------  ----- \n",
      " 0   subreddit    3813 non-null   object\n",
      " 1   selftext     3813 non-null   object\n",
      " 2   title        3813 non-null   object\n",
      " 3   created_utc  3813 non-null   int64 \n",
      "dtypes: int64(1), object(3)\n",
      "memory usage: 119.3+ KB\n"
     ]
    }
   ],
   "source": [
    "df_clean.info()"
   ]
  },
  {
   "cell_type": "code",
   "execution_count": null,
   "metadata": {},
   "outputs": [],
   "source": []
  },
  {
   "cell_type": "code",
   "execution_count": null,
   "metadata": {},
   "outputs": [],
   "source": []
  },
  {
   "cell_type": "code",
   "execution_count": null,
   "metadata": {},
   "outputs": [],
   "source": []
  },
  {
   "cell_type": "code",
   "execution_count": null,
   "metadata": {},
   "outputs": [],
   "source": []
  },
  {
   "cell_type": "code",
   "execution_count": null,
   "metadata": {},
   "outputs": [],
   "source": []
  },
  {
   "cell_type": "code",
   "execution_count": null,
   "metadata": {},
   "outputs": [],
   "source": []
  },
  {
   "cell_type": "code",
   "execution_count": 52,
   "metadata": {},
   "outputs": [
    {
     "name": "stdout",
     "output_type": "stream",
     "text": [
      "<class 'pandas.core.frame.DataFrame'>\n",
      "Int64Index: 274 entries, 0 to 999\n",
      "Data columns (total 4 columns):\n",
      " #   Column       Non-Null Count  Dtype \n",
      "---  ------       --------------  ----- \n",
      " 0   subreddit    274 non-null    object\n",
      " 1   selftext     274 non-null    object\n",
      " 2   title        274 non-null    object\n",
      " 3   created_utc  274 non-null    int64 \n",
      "dtypes: int64(1), object(3)\n",
      "memory usage: 10.7+ KB\n"
     ]
    }
   ],
   "source": [
    "phys_df_drop.info()\n",
    "#lost a lot of rows but that's ok."
   ]
  },
  {
   "cell_type": "code",
   "execution_count": null,
   "metadata": {},
   "outputs": [],
   "source": [
    "chem_df = get_many_requests('chemistry')"
   ]
  },
  {
   "cell_type": "code",
   "execution_count": null,
   "metadata": {},
   "outputs": [],
   "source": [
    "#keep only the rows that have more than 4 words in each column\n",
    "chem_df_drop = chem_df.loc[chem_df['selftext'].str.split().str.len() > 4]\n",
    "chem_df_drop = chem_df_drop.loc[chem_df_drop['title'].str.split().str.len() > 4]\n",
    "chem_df_drop = chem_df_drop.drop_duplicates()\n",
    "chem_df_drop.head()"
   ]
  },
  {
   "cell_type": "code",
   "execution_count": 19,
   "metadata": {},
   "outputs": [
    {
     "name": "stdout",
     "output_type": "stream",
     "text": [
      "<class 'pandas.core.frame.DataFrame'>\n",
      "Int64Index: 301 entries, 0 to 998\n",
      "Data columns (total 4 columns):\n",
      " #   Column       Non-Null Count  Dtype \n",
      "---  ------       --------------  ----- \n",
      " 0   subreddit    301 non-null    object\n",
      " 1   selftext     301 non-null    object\n",
      " 2   title        301 non-null    object\n",
      " 3   created_utc  301 non-null    int64 \n",
      "dtypes: int64(1), object(3)\n",
      "memory usage: 11.8+ KB\n"
     ]
    }
   ],
   "source": [
    "chem_df_drop.info()\n",
    "#lost a lot of rows but that's ok."
   ]
  },
  {
   "cell_type": "code",
   "execution_count": null,
   "metadata": {},
   "outputs": [],
   "source": [
    "#save dataframe as a csv\n"
   ]
  },
  {
   "cell_type": "code",
   "execution_count": null,
   "metadata": {},
   "outputs": [],
   "source": []
  },
  {
   "cell_type": "code",
   "execution_count": null,
   "metadata": {},
   "outputs": [],
   "source": []
  },
  {
   "cell_type": "code",
   "execution_count": null,
   "metadata": {},
   "outputs": [],
   "source": []
  },
  {
   "cell_type": "code",
   "execution_count": null,
   "metadata": {},
   "outputs": [],
   "source": []
  },
  {
   "cell_type": "code",
   "execution_count": null,
   "metadata": {},
   "outputs": [],
   "source": []
  },
  {
   "cell_type": "code",
   "execution_count": null,
   "metadata": {},
   "outputs": [],
   "source": []
  },
  {
   "cell_type": "markdown",
   "metadata": {},
   "source": [
    "## Using Pushshift\n",
    "Video notes:\n",
    "- "
   ]
  },
  {
   "cell_type": "code",
   "execution_count": 24,
   "metadata": {},
   "outputs": [],
   "source": [
    "url = 'https://api.pushshift.io/reddit/search/submission'\n",
    "#this api is to get ALL of the posts of just reddit in general\n",
    "# want to narrow it down to just the subreddit that we're interested in"
   ]
  },
  {
   "cell_type": "code",
   "execution_count": 38,
   "metadata": {},
   "outputs": [],
   "source": [
    "params = {\n",
    "    'subreddit': 'physics',\n",
    "    'size': 500,\n",
    "    #'after': '4d' #from posts that were created 4 days ago \n",
    "    #'before': '2d' #until posts that were created 2 days ago \n",
    "}"
   ]
  },
  {
   "cell_type": "code",
   "execution_count": 39,
   "metadata": {},
   "outputs": [],
   "source": [
    "res = requests.get(url, params)"
   ]
  },
  {
   "cell_type": "code",
   "execution_count": 40,
   "metadata": {},
   "outputs": [
    {
     "data": {
      "text/plain": [
       "200"
      ]
     },
     "execution_count": 40,
     "metadata": {},
     "output_type": "execute_result"
    }
   ],
   "source": [
    "res.status_code"
   ]
  },
  {
   "cell_type": "code",
   "execution_count": 41,
   "metadata": {},
   "outputs": [],
   "source": [
    "data = res.json()"
   ]
  },
  {
   "cell_type": "code",
   "execution_count": 42,
   "metadata": {},
   "outputs": [
    {
     "data": {
      "text/plain": [
       "100"
      ]
     },
     "execution_count": 42,
     "metadata": {},
     "output_type": "execute_result"
    }
   ],
   "source": [
    "posts = data['data'] #list of the 25 most recent posts\n",
    "len(posts)\n",
    "#by default get 25 posts back from pushshift api\n",
    "\n",
    "#WHY AM I ONLY GETTING 100"
   ]
  },
  {
   "cell_type": "markdown",
   "metadata": {},
   "source": [
    "- if you want more than 25 posts, set the parameter 'size' differently. \n",
    "- can go up to 500\n",
    "- Goal:\n",
    "    - take in texts from two different subreddits\n",
    "    - out of the two subreddits we choose, we want to build out a model that predicts the subreddit that a post is coming from.\n",
    "- Need a lot of data to build a robust model"
   ]
  },
  {
   "cell_type": "code",
   "execution_count": 43,
   "metadata": {},
   "outputs": [
    {
     "data": {
      "text/plain": [
       "{'all_awardings': [],\n",
       " 'allow_live_comments': False,\n",
       " 'author': 'here_for_frenchmemes',\n",
       " 'author_flair_css_class': None,\n",
       " 'author_flair_richtext': [],\n",
       " 'author_flair_text': None,\n",
       " 'author_flair_type': 'text',\n",
       " 'author_fullname': 't2_5fwkfpyv',\n",
       " 'author_patreon_flair': False,\n",
       " 'author_premium': False,\n",
       " 'awarders': [],\n",
       " 'can_mod_post': False,\n",
       " 'contest_mode': False,\n",
       " 'created_utc': 1601825709,\n",
       " 'domain': 'self.Physics',\n",
       " 'full_link': 'https://www.reddit.com/r/Physics/comments/j50ukz/conservation_of_angular_rotation/',\n",
       " 'gildings': {},\n",
       " 'id': 'j50ukz',\n",
       " 'is_crosspostable': True,\n",
       " 'is_meta': False,\n",
       " 'is_original_content': False,\n",
       " 'is_reddit_media_domain': False,\n",
       " 'is_robot_indexable': True,\n",
       " 'is_self': True,\n",
       " 'is_video': False,\n",
       " 'link_flair_background_color': '',\n",
       " 'link_flair_richtext': [],\n",
       " 'link_flair_text_color': 'dark',\n",
       " 'link_flair_type': 'text',\n",
       " 'locked': False,\n",
       " 'media_metadata': {'rnc0wkvzj3r51': {'e': 'Image',\n",
       "   'id': 'rnc0wkvzj3r51',\n",
       "   'm': 'image/png',\n",
       "   'p': [{'u': 'https://preview.redd.it/rnc0wkvzj3r51.png?width=108&amp;crop=smart&amp;auto=webp&amp;s=a425f1c9aa3ff388d60612b3187325d7912f5aca',\n",
       "     'x': 108,\n",
       "     'y': 60},\n",
       "    {'u': 'https://preview.redd.it/rnc0wkvzj3r51.png?width=216&amp;crop=smart&amp;auto=webp&amp;s=499a4cdf8b4e2aaaf1525c83fdc89231ef9333d1',\n",
       "     'x': 216,\n",
       "     'y': 121},\n",
       "    {'u': 'https://preview.redd.it/rnc0wkvzj3r51.png?width=320&amp;crop=smart&amp;auto=webp&amp;s=1f6ac7fec8a28943731b644751b761b15741d38e',\n",
       "     'x': 320,\n",
       "     'y': 179},\n",
       "    {'u': 'https://preview.redd.it/rnc0wkvzj3r51.png?width=640&amp;crop=smart&amp;auto=webp&amp;s=fe732f0e829a5496c89ec4ffd990c99ff30d1b98',\n",
       "     'x': 640,\n",
       "     'y': 359},\n",
       "    {'u': 'https://preview.redd.it/rnc0wkvzj3r51.png?width=960&amp;crop=smart&amp;auto=webp&amp;s=431b709fdddfaa9a7fa71e01dda94298dc794d8a',\n",
       "     'x': 960,\n",
       "     'y': 539},\n",
       "    {'u': 'https://preview.redd.it/rnc0wkvzj3r51.png?width=1080&amp;crop=smart&amp;auto=webp&amp;s=87636f58ca8b01b248a320c64c932a595fe58a85',\n",
       "     'x': 1080,\n",
       "     'y': 607}],\n",
       "   's': {'u': 'https://preview.redd.it/rnc0wkvzj3r51.png?width=1366&amp;format=png&amp;auto=webp&amp;s=adb4f9acc26687c28ef8ab221cc7ac321f14b1dc',\n",
       "    'x': 1366,\n",
       "    'y': 768},\n",
       "   'status': 'valid'}},\n",
       " 'media_only': False,\n",
       " 'no_follow': True,\n",
       " 'num_comments': 0,\n",
       " 'num_crossposts': 0,\n",
       " 'over_18': False,\n",
       " 'parent_whitelist_status': 'all_ads',\n",
       " 'permalink': '/r/Physics/comments/j50ukz/conservation_of_angular_rotation/',\n",
       " 'pinned': False,\n",
       " 'pwls': 6,\n",
       " 'retrieved_on': 1601825719,\n",
       " 'score': 1,\n",
       " 'selftext': 'Why is it that the angle moved by the shaft at A is not the same as the angle moved at B?\\n\\n[A DIAGRAM](https://preview.redd.it/rnc0wkvzj3r51.png?width=1366&amp;format=png&amp;auto=webp&amp;s=adb4f9acc26687c28ef8ab221cc7ac321f14b1dc)',\n",
       " 'send_replies': True,\n",
       " 'spoiler': False,\n",
       " 'stickied': False,\n",
       " 'subreddit': 'Physics',\n",
       " 'subreddit_id': 't5_2qhi6',\n",
       " 'subreddit_subscribers': 1453252,\n",
       " 'subreddit_type': 'public',\n",
       " 'thumbnail': 'https://b.thumbs.redditmedia.com/4kxR8c4SLD5eq4C9A41fqkJcy6WaKQQeubHwWGa6dNQ.jpg',\n",
       " 'thumbnail_height': 78,\n",
       " 'thumbnail_width': 140,\n",
       " 'title': 'Conservation of angular rotation',\n",
       " 'total_awards_received': 0,\n",
       " 'treatment_tags': [],\n",
       " 'upvote_ratio': 1.0,\n",
       " 'url': 'https://www.reddit.com/r/Physics/comments/j50ukz/conservation_of_angular_rotation/',\n",
       " 'whitelist_status': 'all_ads',\n",
       " 'wls': 6}"
      ]
     },
     "execution_count": 43,
     "metadata": {},
     "output_type": "execute_result"
    }
   ],
   "source": [
    "posts[-1]"
   ]
  },
  {
   "cell_type": "code",
   "execution_count": 21,
   "metadata": {},
   "outputs": [],
   "source": [
    "df = pd.DataFrame(posts)"
   ]
  },
  {
   "cell_type": "code",
   "execution_count": 22,
   "metadata": {},
   "outputs": [
    {
     "data": {
      "text/html": [
       "<div>\n",
       "<style scoped>\n",
       "    .dataframe tbody tr th:only-of-type {\n",
       "        vertical-align: middle;\n",
       "    }\n",
       "\n",
       "    .dataframe tbody tr th {\n",
       "        vertical-align: top;\n",
       "    }\n",
       "\n",
       "    .dataframe thead th {\n",
       "        text-align: right;\n",
       "    }\n",
       "</style>\n",
       "<table border=\"1\" class=\"dataframe\">\n",
       "  <thead>\n",
       "    <tr style=\"text-align: right;\">\n",
       "      <th></th>\n",
       "      <th>all_awardings</th>\n",
       "      <th>allow_live_comments</th>\n",
       "      <th>author</th>\n",
       "      <th>author_flair_css_class</th>\n",
       "      <th>author_flair_richtext</th>\n",
       "      <th>author_flair_text</th>\n",
       "      <th>author_flair_type</th>\n",
       "      <th>author_fullname</th>\n",
       "      <th>author_patreon_flair</th>\n",
       "      <th>author_premium</th>\n",
       "      <th>...</th>\n",
       "      <th>preview</th>\n",
       "      <th>thumbnail_height</th>\n",
       "      <th>thumbnail_width</th>\n",
       "      <th>url_overridden_by_dest</th>\n",
       "      <th>removed_by_category</th>\n",
       "      <th>media_metadata</th>\n",
       "      <th>media</th>\n",
       "      <th>media_embed</th>\n",
       "      <th>secure_media</th>\n",
       "      <th>secure_media_embed</th>\n",
       "    </tr>\n",
       "  </thead>\n",
       "  <tbody>\n",
       "    <tr>\n",
       "      <th>0</th>\n",
       "      <td>[]</td>\n",
       "      <td>False</td>\n",
       "      <td>AsenseIsGay</td>\n",
       "      <td>None</td>\n",
       "      <td>[]</td>\n",
       "      <td>None</td>\n",
       "      <td>text</td>\n",
       "      <td>t2_63ayn475</td>\n",
       "      <td>False</td>\n",
       "      <td>False</td>\n",
       "      <td>...</td>\n",
       "      <td>NaN</td>\n",
       "      <td>NaN</td>\n",
       "      <td>NaN</td>\n",
       "      <td>NaN</td>\n",
       "      <td>NaN</td>\n",
       "      <td>NaN</td>\n",
       "      <td>NaN</td>\n",
       "      <td>NaN</td>\n",
       "      <td>NaN</td>\n",
       "      <td>NaN</td>\n",
       "    </tr>\n",
       "    <tr>\n",
       "      <th>1</th>\n",
       "      <td>[]</td>\n",
       "      <td>False</td>\n",
       "      <td>scienceisfun112358</td>\n",
       "      <td>None</td>\n",
       "      <td>[]</td>\n",
       "      <td>None</td>\n",
       "      <td>text</td>\n",
       "      <td>t2_2x6wb893</td>\n",
       "      <td>False</td>\n",
       "      <td>False</td>\n",
       "      <td>...</td>\n",
       "      <td>{'enabled': False, 'images': [{'id': '-hKcdVcU...</td>\n",
       "      <td>73.0</td>\n",
       "      <td>140.0</td>\n",
       "      <td>https://www.inverse.com/mind-body/how-the-brai...</td>\n",
       "      <td>NaN</td>\n",
       "      <td>NaN</td>\n",
       "      <td>NaN</td>\n",
       "      <td>NaN</td>\n",
       "      <td>NaN</td>\n",
       "      <td>NaN</td>\n",
       "    </tr>\n",
       "    <tr>\n",
       "      <th>2</th>\n",
       "      <td>[]</td>\n",
       "      <td>False</td>\n",
       "      <td>Zenblendman</td>\n",
       "      <td>None</td>\n",
       "      <td>[]</td>\n",
       "      <td>None</td>\n",
       "      <td>text</td>\n",
       "      <td>t2_ub4z8</td>\n",
       "      <td>False</td>\n",
       "      <td>False</td>\n",
       "      <td>...</td>\n",
       "      <td>{'enabled': False, 'images': [{'id': 'pmPKbVU9...</td>\n",
       "      <td>140.0</td>\n",
       "      <td>140.0</td>\n",
       "      <td>https://v.redd.it/ev8oeln7l0r51</td>\n",
       "      <td>NaN</td>\n",
       "      <td>NaN</td>\n",
       "      <td>NaN</td>\n",
       "      <td>NaN</td>\n",
       "      <td>NaN</td>\n",
       "      <td>NaN</td>\n",
       "    </tr>\n",
       "    <tr>\n",
       "      <th>3</th>\n",
       "      <td>[]</td>\n",
       "      <td>False</td>\n",
       "      <td>k10forgotten</td>\n",
       "      <td>None</td>\n",
       "      <td>[]</td>\n",
       "      <td>None</td>\n",
       "      <td>text</td>\n",
       "      <td>t2_60bj0</td>\n",
       "      <td>False</td>\n",
       "      <td>False</td>\n",
       "      <td>...</td>\n",
       "      <td>{'enabled': False, 'images': [{'id': 'kEku63cQ...</td>\n",
       "      <td>56.0</td>\n",
       "      <td>140.0</td>\n",
       "      <td>https://www.sciencealert.com/physicists-push-t...</td>\n",
       "      <td>moderator</td>\n",
       "      <td>NaN</td>\n",
       "      <td>NaN</td>\n",
       "      <td>NaN</td>\n",
       "      <td>NaN</td>\n",
       "      <td>NaN</td>\n",
       "    </tr>\n",
       "    <tr>\n",
       "      <th>4</th>\n",
       "      <td>[]</td>\n",
       "      <td>False</td>\n",
       "      <td>EclipseThing</td>\n",
       "      <td>None</td>\n",
       "      <td>[]</td>\n",
       "      <td>None</td>\n",
       "      <td>text</td>\n",
       "      <td>t2_2b4mrsos</td>\n",
       "      <td>False</td>\n",
       "      <td>False</td>\n",
       "      <td>...</td>\n",
       "      <td>NaN</td>\n",
       "      <td>NaN</td>\n",
       "      <td>NaN</td>\n",
       "      <td>NaN</td>\n",
       "      <td>NaN</td>\n",
       "      <td>NaN</td>\n",
       "      <td>NaN</td>\n",
       "      <td>NaN</td>\n",
       "      <td>NaN</td>\n",
       "      <td>NaN</td>\n",
       "    </tr>\n",
       "  </tbody>\n",
       "</table>\n",
       "<p>5 rows × 70 columns</p>\n",
       "</div>"
      ],
      "text/plain": [
       "  all_awardings  allow_live_comments              author  \\\n",
       "0            []                False         AsenseIsGay   \n",
       "1            []                False  scienceisfun112358   \n",
       "2            []                False         Zenblendman   \n",
       "3            []                False        k10forgotten   \n",
       "4            []                False        EclipseThing   \n",
       "\n",
       "  author_flair_css_class author_flair_richtext author_flair_text  \\\n",
       "0                   None                    []              None   \n",
       "1                   None                    []              None   \n",
       "2                   None                    []              None   \n",
       "3                   None                    []              None   \n",
       "4                   None                    []              None   \n",
       "\n",
       "  author_flair_type author_fullname  author_patreon_flair  author_premium  \\\n",
       "0              text     t2_63ayn475                 False           False   \n",
       "1              text     t2_2x6wb893                 False           False   \n",
       "2              text        t2_ub4z8                 False           False   \n",
       "3              text        t2_60bj0                 False           False   \n",
       "4              text     t2_2b4mrsos                 False           False   \n",
       "\n",
       "   ...                                            preview  thumbnail_height  \\\n",
       "0  ...                                                NaN               NaN   \n",
       "1  ...  {'enabled': False, 'images': [{'id': '-hKcdVcU...              73.0   \n",
       "2  ...  {'enabled': False, 'images': [{'id': 'pmPKbVU9...             140.0   \n",
       "3  ...  {'enabled': False, 'images': [{'id': 'kEku63cQ...              56.0   \n",
       "4  ...                                                NaN               NaN   \n",
       "\n",
       "   thumbnail_width                             url_overridden_by_dest  \\\n",
       "0              NaN                                                NaN   \n",
       "1            140.0  https://www.inverse.com/mind-body/how-the-brai...   \n",
       "2            140.0                    https://v.redd.it/ev8oeln7l0r51   \n",
       "3            140.0  https://www.sciencealert.com/physicists-push-t...   \n",
       "4              NaN                                                NaN   \n",
       "\n",
       "  removed_by_category media_metadata media media_embed  secure_media  \\\n",
       "0                 NaN            NaN   NaN         NaN           NaN   \n",
       "1                 NaN            NaN   NaN         NaN           NaN   \n",
       "2                 NaN            NaN   NaN         NaN           NaN   \n",
       "3           moderator            NaN   NaN         NaN           NaN   \n",
       "4                 NaN            NaN   NaN         NaN           NaN   \n",
       "\n",
       "   secure_media_embed  \n",
       "0                 NaN  \n",
       "1                 NaN  \n",
       "2                 NaN  \n",
       "3                 NaN  \n",
       "4                 NaN  \n",
       "\n",
       "[5 rows x 70 columns]"
      ]
     },
     "execution_count": 22,
     "metadata": {},
     "output_type": "execute_result"
    }
   ],
   "source": [
    "df.head()"
   ]
  },
  {
   "cell_type": "markdown",
   "metadata": {},
   "source": [
    "Columns of interest: \n",
    "- What subreddit did it come from?\n",
    "- description of each post\n",
    "- title\n",
    "\n",
    "These are the three columns we'll start with for our NLP model to predict the 'subreddit' column"
   ]
  },
  {
   "cell_type": "code",
   "execution_count": 23,
   "metadata": {},
   "outputs": [
    {
     "data": {
      "text/html": [
       "<div>\n",
       "<style scoped>\n",
       "    .dataframe tbody tr th:only-of-type {\n",
       "        vertical-align: middle;\n",
       "    }\n",
       "\n",
       "    .dataframe tbody tr th {\n",
       "        vertical-align: top;\n",
       "    }\n",
       "\n",
       "    .dataframe thead th {\n",
       "        text-align: right;\n",
       "    }\n",
       "</style>\n",
       "<table border=\"1\" class=\"dataframe\">\n",
       "  <thead>\n",
       "    <tr style=\"text-align: right;\">\n",
       "      <th></th>\n",
       "      <th>subreddit</th>\n",
       "      <th>selftext</th>\n",
       "      <th>title</th>\n",
       "    </tr>\n",
       "  </thead>\n",
       "  <tbody>\n",
       "    <tr>\n",
       "      <th>0</th>\n",
       "      <td>Physics</td>\n",
       "      <td>is there work done when youre fishing?</td>\n",
       "      <td>hey guys, question</td>\n",
       "    </tr>\n",
       "    <tr>\n",
       "      <th>1</th>\n",
       "      <td>Physics</td>\n",
       "      <td></td>\n",
       "      <td>How the brain creates the experience of time —...</td>\n",
       "    </tr>\n",
       "    <tr>\n",
       "      <th>2</th>\n",
       "      <td>Physics</td>\n",
       "      <td></td>\n",
       "      <td>Have you ever seen behind someone while lookin...</td>\n",
       "    </tr>\n",
       "    <tr>\n",
       "      <th>3</th>\n",
       "      <td>Physics</td>\n",
       "      <td></td>\n",
       "      <td>Physicists Have Successfully Connected Two Lar...</td>\n",
       "    </tr>\n",
       "    <tr>\n",
       "      <th>4</th>\n",
       "      <td>Physics</td>\n",
       "      <td>I don't know how to accurately ask this questi...</td>\n",
       "      <td>A physics/math question</td>\n",
       "    </tr>\n",
       "  </tbody>\n",
       "</table>\n",
       "</div>"
      ],
      "text/plain": [
       "  subreddit                                           selftext  \\\n",
       "0   Physics             is there work done when youre fishing?   \n",
       "1   Physics                                                      \n",
       "2   Physics                                                      \n",
       "3   Physics                                                      \n",
       "4   Physics  I don't know how to accurately ask this questi...   \n",
       "\n",
       "                                               title  \n",
       "0                                 hey guys, question  \n",
       "1  How the brain creates the experience of time —...  \n",
       "2  Have you ever seen behind someone while lookin...  \n",
       "3  Physicists Have Successfully Connected Two Lar...  \n",
       "4                            A physics/math question  "
      ]
     },
     "execution_count": 23,
     "metadata": {},
     "output_type": "execute_result"
    }
   ],
   "source": [
    "df[['subreddit', 'selftext', 'title']].head()"
   ]
  },
  {
   "cell_type": "markdown",
   "metadata": {},
   "source": [
    "Notes:\n",
    "- start with 1000 posts from two subreddits\n",
    "- go back and get another 500\n",
    "    - problem: if we rerun the code, we'll get the same 500 posts\n",
    "- Use the 'before' and 'after' parameters\n",
    "    - give it an integer that represents time"
   ]
  },
  {
   "cell_type": "code",
   "execution_count": null,
   "metadata": {},
   "outputs": [],
   "source": [
    "#if you want 500 posts be\n"
   ]
  },
  {
   "cell_type": "code",
   "execution_count": null,
   "metadata": {},
   "outputs": [],
   "source": []
  },
  {
   "cell_type": "code",
   "execution_count": null,
   "metadata": {},
   "outputs": [],
   "source": [
    "#example"
   ]
  },
  {
   "cell_type": "code",
   "execution_count": 4,
   "metadata": {},
   "outputs": [],
   "source": [
    "#The url given below calls for the most recent 1000 comments from threads on r/AskMen.\n",
    "url = \"https://api.pushshift.io/reddit/search/comment/?subreddit=askmen&sort=des&size=1000\""
   ]
  },
  {
   "cell_type": "code",
   "execution_count": 5,
   "metadata": {},
   "outputs": [
    {
     "data": {
      "text/plain": [
       "200"
      ]
     },
     "execution_count": 5,
     "metadata": {},
     "output_type": "execute_result"
    }
   ],
   "source": [
    "headers = {'User-agent': 'eamonious'}\n",
    "res = requests.get(url, headers=headers)\n",
    "res.status_code"
   ]
  },
  {
   "cell_type": "code",
   "execution_count": 6,
   "metadata": {},
   "outputs": [],
   "source": [
    "json = res.json()\n",
    "comments = pd.DataFrame(json['data'])"
   ]
  },
  {
   "cell_type": "code",
   "execution_count": 7,
   "metadata": {},
   "outputs": [
    {
     "data": {
      "text/plain": [
       "Index(['all_awardings', 'associated_award', 'author',\n",
       "       'author_flair_background_color', 'author_flair_css_class',\n",
       "       'author_flair_richtext', 'author_flair_template_id',\n",
       "       'author_flair_text', 'author_flair_text_color', 'author_flair_type',\n",
       "       'author_fullname', 'author_patreon_flair', 'author_premium', 'awarders',\n",
       "       'body', 'collapsed_because_crowd_control', 'comment_type',\n",
       "       'created_utc', 'gildings', 'id', 'is_submitter', 'link_id', 'locked',\n",
       "       'no_follow', 'parent_id', 'permalink', 'retrieved_on', 'score',\n",
       "       'send_replies', 'stickied', 'subreddit', 'subreddit_id',\n",
       "       'top_awarded_type', 'total_awards_received', 'treatment_tags', 'edited',\n",
       "       'distinguished'],\n",
       "      dtype='object')"
      ]
     },
     "execution_count": 7,
     "metadata": {},
     "output_type": "execute_result"
    }
   ],
   "source": [
    "comments.columns"
   ]
  },
  {
   "cell_type": "code",
   "execution_count": 8,
   "metadata": {},
   "outputs": [
    {
     "data": {
      "text/plain": [
       "100"
      ]
     },
     "execution_count": 8,
     "metadata": {},
     "output_type": "execute_result"
    }
   ],
   "source": [
    "posts = json['data'] #list of the 25 most recent posts\n",
    "len(posts)"
   ]
  },
  {
   "cell_type": "code",
   "execution_count": 9,
   "metadata": {},
   "outputs": [
    {
     "data": {
      "text/html": [
       "<div>\n",
       "<style scoped>\n",
       "    .dataframe tbody tr th:only-of-type {\n",
       "        vertical-align: middle;\n",
       "    }\n",
       "\n",
       "    .dataframe tbody tr th {\n",
       "        vertical-align: top;\n",
       "    }\n",
       "\n",
       "    .dataframe thead th {\n",
       "        text-align: right;\n",
       "    }\n",
       "</style>\n",
       "<table border=\"1\" class=\"dataframe\">\n",
       "  <thead>\n",
       "    <tr style=\"text-align: right;\">\n",
       "      <th></th>\n",
       "      <th>all_awardings</th>\n",
       "      <th>associated_award</th>\n",
       "      <th>author</th>\n",
       "      <th>author_flair_background_color</th>\n",
       "      <th>author_flair_css_class</th>\n",
       "      <th>author_flair_richtext</th>\n",
       "      <th>author_flair_template_id</th>\n",
       "      <th>author_flair_text</th>\n",
       "      <th>author_flair_text_color</th>\n",
       "      <th>author_flair_type</th>\n",
       "      <th>...</th>\n",
       "      <th>score</th>\n",
       "      <th>send_replies</th>\n",
       "      <th>stickied</th>\n",
       "      <th>subreddit</th>\n",
       "      <th>subreddit_id</th>\n",
       "      <th>top_awarded_type</th>\n",
       "      <th>total_awards_received</th>\n",
       "      <th>treatment_tags</th>\n",
       "      <th>edited</th>\n",
       "      <th>distinguished</th>\n",
       "    </tr>\n",
       "  </thead>\n",
       "  <tbody>\n",
       "    <tr>\n",
       "      <th>0</th>\n",
       "      <td>[]</td>\n",
       "      <td>None</td>\n",
       "      <td>timothy53</td>\n",
       "      <td>None</td>\n",
       "      <td>None</td>\n",
       "      <td>[]</td>\n",
       "      <td>None</td>\n",
       "      <td>None</td>\n",
       "      <td>None</td>\n",
       "      <td>text</td>\n",
       "      <td>...</td>\n",
       "      <td>1</td>\n",
       "      <td>True</td>\n",
       "      <td>False</td>\n",
       "      <td>AskMen</td>\n",
       "      <td>t5_2s30g</td>\n",
       "      <td>None</td>\n",
       "      <td>0</td>\n",
       "      <td>[]</td>\n",
       "      <td>NaN</td>\n",
       "      <td>NaN</td>\n",
       "    </tr>\n",
       "    <tr>\n",
       "      <th>1</th>\n",
       "      <td>[]</td>\n",
       "      <td>None</td>\n",
       "      <td>TheIntrepid1</td>\n",
       "      <td>None</td>\n",
       "      <td>None</td>\n",
       "      <td>[]</td>\n",
       "      <td>None</td>\n",
       "      <td>None</td>\n",
       "      <td>None</td>\n",
       "      <td>text</td>\n",
       "      <td>...</td>\n",
       "      <td>2</td>\n",
       "      <td>True</td>\n",
       "      <td>False</td>\n",
       "      <td>AskMen</td>\n",
       "      <td>t5_2s30g</td>\n",
       "      <td>None</td>\n",
       "      <td>0</td>\n",
       "      <td>[]</td>\n",
       "      <td>NaN</td>\n",
       "      <td>NaN</td>\n",
       "    </tr>\n",
       "    <tr>\n",
       "      <th>2</th>\n",
       "      <td>[]</td>\n",
       "      <td>None</td>\n",
       "      <td>weirdhairkid</td>\n",
       "      <td>#eb3305</td>\n",
       "      <td>female</td>\n",
       "      <td>[{'e': 'text', 't': 'Female'}]</td>\n",
       "      <td>f17b2dd0-cd16-11e1-b564-12313d051e91</td>\n",
       "      <td>Female</td>\n",
       "      <td>light</td>\n",
       "      <td>richtext</td>\n",
       "      <td>...</td>\n",
       "      <td>1</td>\n",
       "      <td>True</td>\n",
       "      <td>False</td>\n",
       "      <td>AskMen</td>\n",
       "      <td>t5_2s30g</td>\n",
       "      <td>None</td>\n",
       "      <td>0</td>\n",
       "      <td>[]</td>\n",
       "      <td>1.602116e+09</td>\n",
       "      <td>NaN</td>\n",
       "    </tr>\n",
       "    <tr>\n",
       "      <th>3</th>\n",
       "      <td>[]</td>\n",
       "      <td>None</td>\n",
       "      <td>IwantmyMTZ</td>\n",
       "      <td>None</td>\n",
       "      <td>None</td>\n",
       "      <td>[]</td>\n",
       "      <td>None</td>\n",
       "      <td>None</td>\n",
       "      <td>None</td>\n",
       "      <td>text</td>\n",
       "      <td>...</td>\n",
       "      <td>1</td>\n",
       "      <td>True</td>\n",
       "      <td>False</td>\n",
       "      <td>AskMen</td>\n",
       "      <td>t5_2s30g</td>\n",
       "      <td>None</td>\n",
       "      <td>0</td>\n",
       "      <td>[]</td>\n",
       "      <td>NaN</td>\n",
       "      <td>NaN</td>\n",
       "    </tr>\n",
       "    <tr>\n",
       "      <th>4</th>\n",
       "      <td>[]</td>\n",
       "      <td>None</td>\n",
       "      <td>the-wheel-deal</td>\n",
       "      <td>None</td>\n",
       "      <td>None</td>\n",
       "      <td>[]</td>\n",
       "      <td>None</td>\n",
       "      <td>None</td>\n",
       "      <td>None</td>\n",
       "      <td>text</td>\n",
       "      <td>...</td>\n",
       "      <td>1</td>\n",
       "      <td>True</td>\n",
       "      <td>False</td>\n",
       "      <td>AskMen</td>\n",
       "      <td>t5_2s30g</td>\n",
       "      <td>None</td>\n",
       "      <td>0</td>\n",
       "      <td>[]</td>\n",
       "      <td>NaN</td>\n",
       "      <td>NaN</td>\n",
       "    </tr>\n",
       "  </tbody>\n",
       "</table>\n",
       "<p>5 rows × 37 columns</p>\n",
       "</div>"
      ],
      "text/plain": [
       "  all_awardings associated_award          author  \\\n",
       "0            []             None       timothy53   \n",
       "1            []             None    TheIntrepid1   \n",
       "2            []             None    weirdhairkid   \n",
       "3            []             None      IwantmyMTZ   \n",
       "4            []             None  the-wheel-deal   \n",
       "\n",
       "  author_flair_background_color author_flair_css_class  \\\n",
       "0                          None                   None   \n",
       "1                          None                   None   \n",
       "2                       #eb3305                 female   \n",
       "3                          None                   None   \n",
       "4                          None                   None   \n",
       "\n",
       "            author_flair_richtext              author_flair_template_id  \\\n",
       "0                              []                                  None   \n",
       "1                              []                                  None   \n",
       "2  [{'e': 'text', 't': 'Female'}]  f17b2dd0-cd16-11e1-b564-12313d051e91   \n",
       "3                              []                                  None   \n",
       "4                              []                                  None   \n",
       "\n",
       "  author_flair_text author_flair_text_color author_flair_type  ... score  \\\n",
       "0              None                    None              text  ...     1   \n",
       "1              None                    None              text  ...     2   \n",
       "2            Female                   light          richtext  ...     1   \n",
       "3              None                    None              text  ...     1   \n",
       "4              None                    None              text  ...     1   \n",
       "\n",
       "  send_replies stickied subreddit subreddit_id top_awarded_type  \\\n",
       "0         True    False    AskMen     t5_2s30g             None   \n",
       "1         True    False    AskMen     t5_2s30g             None   \n",
       "2         True    False    AskMen     t5_2s30g             None   \n",
       "3         True    False    AskMen     t5_2s30g             None   \n",
       "4         True    False    AskMen     t5_2s30g             None   \n",
       "\n",
       "  total_awards_received  treatment_tags        edited distinguished  \n",
       "0                     0              []           NaN           NaN  \n",
       "1                     0              []           NaN           NaN  \n",
       "2                     0              []  1.602116e+09           NaN  \n",
       "3                     0              []           NaN           NaN  \n",
       "4                     0              []           NaN           NaN  \n",
       "\n",
       "[5 rows x 37 columns]"
      ]
     },
     "execution_count": 9,
     "metadata": {},
     "output_type": "execute_result"
    }
   ],
   "source": [
    "comments.head()"
   ]
  },
  {
   "cell_type": "code",
   "execution_count": 10,
   "metadata": {},
   "outputs": [],
   "source": [
    "#Removes everything but the features we are interested in.\n",
    "comments = comments[['body','created_utc','id','parent_id','score','subreddit']]"
   ]
  },
  {
   "cell_type": "code",
   "execution_count": 11,
   "metadata": {},
   "outputs": [
    {
     "data": {
      "text/html": [
       "<div>\n",
       "<style scoped>\n",
       "    .dataframe tbody tr th:only-of-type {\n",
       "        vertical-align: middle;\n",
       "    }\n",
       "\n",
       "    .dataframe tbody tr th {\n",
       "        vertical-align: top;\n",
       "    }\n",
       "\n",
       "    .dataframe thead th {\n",
       "        text-align: right;\n",
       "    }\n",
       "</style>\n",
       "<table border=\"1\" class=\"dataframe\">\n",
       "  <thead>\n",
       "    <tr style=\"text-align: right;\">\n",
       "      <th></th>\n",
       "      <th>body</th>\n",
       "      <th>created_utc</th>\n",
       "      <th>id</th>\n",
       "      <th>parent_id</th>\n",
       "      <th>score</th>\n",
       "      <th>subreddit</th>\n",
       "    </tr>\n",
       "  </thead>\n",
       "  <tbody>\n",
       "    <tr>\n",
       "      <th>0</th>\n",
       "      <td>A few years ahead of you. When I turned 18, 9/...</td>\n",
       "      <td>1602115942</td>\n",
       "      <td>g824n32</td>\n",
       "      <td>t1_g80gfh1</td>\n",
       "      <td>1</td>\n",
       "      <td>AskMen</td>\n",
       "    </tr>\n",
       "    <tr>\n",
       "      <th>1</th>\n",
       "      <td>Because that’s how it was when they were our a...</td>\n",
       "      <td>1602115935</td>\n",
       "      <td>g824mmt</td>\n",
       "      <td>t1_g81fqxa</td>\n",
       "      <td>2</td>\n",
       "      <td>AskMen</td>\n",
       "    </tr>\n",
       "    <tr>\n",
       "      <th>2</th>\n",
       "      <td>Yes yes♥️ I'm just doing what I'd like to see ...</td>\n",
       "      <td>1602115934</td>\n",
       "      <td>g824mli</td>\n",
       "      <td>t1_g81mpbl</td>\n",
       "      <td>1</td>\n",
       "      <td>AskMen</td>\n",
       "    </tr>\n",
       "    <tr>\n",
       "      <th>3</th>\n",
       "      <td>What is missing is decorum. Very badly.</td>\n",
       "      <td>1602115912</td>\n",
       "      <td>g824l9r</td>\n",
       "      <td>t1_g823nal</td>\n",
       "      <td>1</td>\n",
       "      <td>AskMen</td>\n",
       "    </tr>\n",
       "    <tr>\n",
       "      <th>4</th>\n",
       "      <td>They were but when we coloreds started getting...</td>\n",
       "      <td>1602115910</td>\n",
       "      <td>g824l4r</td>\n",
       "      <td>t1_g81tspx</td>\n",
       "      <td>1</td>\n",
       "      <td>AskMen</td>\n",
       "    </tr>\n",
       "  </tbody>\n",
       "</table>\n",
       "</div>"
      ],
      "text/plain": [
       "                                                body  created_utc       id  \\\n",
       "0  A few years ahead of you. When I turned 18, 9/...   1602115942  g824n32   \n",
       "1  Because that’s how it was when they were our a...   1602115935  g824mmt   \n",
       "2  Yes yes♥️ I'm just doing what I'd like to see ...   1602115934  g824mli   \n",
       "3            What is missing is decorum. Very badly.   1602115912  g824l9r   \n",
       "4  They were but when we coloreds started getting...   1602115910  g824l4r   \n",
       "\n",
       "    parent_id  score subreddit  \n",
       "0  t1_g80gfh1      1    AskMen  \n",
       "1  t1_g81fqxa      2    AskMen  \n",
       "2  t1_g81mpbl      1    AskMen  \n",
       "3  t1_g823nal      1    AskMen  \n",
       "4  t1_g81tspx      1    AskMen  "
      ]
     },
     "execution_count": 11,
     "metadata": {},
     "output_type": "execute_result"
    }
   ],
   "source": [
    "comments.head()"
   ]
  },
  {
   "cell_type": "markdown",
   "metadata": {},
   "source": [
    "# another test"
   ]
  },
  {
   "cell_type": "code",
   "execution_count": 12,
   "metadata": {},
   "outputs": [
    {
     "ename": "JSONDecodeError",
     "evalue": "Expecting value: line 1 column 1 (char 0)",
     "output_type": "error",
     "traceback": [
      "\u001b[0;31m---------------------------------------------------------------------------\u001b[0m",
      "\u001b[0;31mJSONDecodeError\u001b[0m                           Traceback (most recent call last)",
      "\u001b[0;32m<ipython-input-12-e6fe74f75f98>\u001b[0m in \u001b[0;36m<module>\u001b[0;34m\u001b[0m\n\u001b[1;32m     19\u001b[0m     \u001b[0mheaders\u001b[0m \u001b[0;34m=\u001b[0m \u001b[0;34m{\u001b[0m\u001b[0;34m'User-agent'\u001b[0m\u001b[0;34m:\u001b[0m \u001b[0;34m'eamonious'\u001b[0m\u001b[0;34m}\u001b[0m\u001b[0;34m\u001b[0m\u001b[0;34m\u001b[0m\u001b[0m\n\u001b[1;32m     20\u001b[0m     \u001b[0mres\u001b[0m \u001b[0;34m=\u001b[0m \u001b[0mrequests\u001b[0m\u001b[0;34m.\u001b[0m\u001b[0mget\u001b[0m\u001b[0;34m(\u001b[0m\u001b[0murl\u001b[0m\u001b[0;34m,\u001b[0m \u001b[0mheaders\u001b[0m\u001b[0;34m=\u001b[0m\u001b[0mheaders\u001b[0m\u001b[0;34m)\u001b[0m\u001b[0;34m\u001b[0m\u001b[0;34m\u001b[0m\u001b[0m\n\u001b[0;32m---> 21\u001b[0;31m     \u001b[0mjson\u001b[0m \u001b[0;34m=\u001b[0m \u001b[0mres\u001b[0m\u001b[0;34m.\u001b[0m\u001b[0mjson\u001b[0m\u001b[0;34m(\u001b[0m\u001b[0;34m)\u001b[0m\u001b[0;34m\u001b[0m\u001b[0;34m\u001b[0m\u001b[0m\n\u001b[0m\u001b[1;32m     22\u001b[0m     \u001b[0mcommentbloc\u001b[0m \u001b[0;34m=\u001b[0m \u001b[0mpd\u001b[0m\u001b[0;34m.\u001b[0m\u001b[0mDataFrame\u001b[0m\u001b[0;34m(\u001b[0m\u001b[0mjson\u001b[0m\u001b[0;34m[\u001b[0m\u001b[0;34m'data'\u001b[0m\u001b[0;34m]\u001b[0m\u001b[0;34m)\u001b[0m\u001b[0;34m\u001b[0m\u001b[0;34m\u001b[0m\u001b[0m\n\u001b[1;32m     23\u001b[0m     \u001b[0mcommentbloc\u001b[0m \u001b[0;34m=\u001b[0m \u001b[0mcommentbloc\u001b[0m\u001b[0;34m[\u001b[0m\u001b[0;34m[\u001b[0m\u001b[0;34m'body'\u001b[0m\u001b[0;34m,\u001b[0m\u001b[0;34m'created_utc'\u001b[0m\u001b[0;34m,\u001b[0m\u001b[0;34m'id'\u001b[0m\u001b[0;34m,\u001b[0m\u001b[0;34m'parent_id'\u001b[0m\u001b[0;34m,\u001b[0m\u001b[0;34m'score'\u001b[0m\u001b[0;34m,\u001b[0m\u001b[0;34m'subreddit'\u001b[0m\u001b[0;34m]\u001b[0m\u001b[0;34m]\u001b[0m\u001b[0;34m\u001b[0m\u001b[0;34m\u001b[0m\u001b[0m\n",
      "\u001b[0;32m~/opt/anaconda3/lib/python3.8/site-packages/requests/models.py\u001b[0m in \u001b[0;36mjson\u001b[0;34m(self, **kwargs)\u001b[0m\n\u001b[1;32m    896\u001b[0m                     \u001b[0;31m# used.\u001b[0m\u001b[0;34m\u001b[0m\u001b[0;34m\u001b[0m\u001b[0;34m\u001b[0m\u001b[0m\n\u001b[1;32m    897\u001b[0m                     \u001b[0;32mpass\u001b[0m\u001b[0;34m\u001b[0m\u001b[0;34m\u001b[0m\u001b[0m\n\u001b[0;32m--> 898\u001b[0;31m         \u001b[0;32mreturn\u001b[0m \u001b[0mcomplexjson\u001b[0m\u001b[0;34m.\u001b[0m\u001b[0mloads\u001b[0m\u001b[0;34m(\u001b[0m\u001b[0mself\u001b[0m\u001b[0;34m.\u001b[0m\u001b[0mtext\u001b[0m\u001b[0;34m,\u001b[0m \u001b[0;34m**\u001b[0m\u001b[0mkwargs\u001b[0m\u001b[0;34m)\u001b[0m\u001b[0;34m\u001b[0m\u001b[0;34m\u001b[0m\u001b[0m\n\u001b[0m\u001b[1;32m    899\u001b[0m \u001b[0;34m\u001b[0m\u001b[0m\n\u001b[1;32m    900\u001b[0m     \u001b[0;34m@\u001b[0m\u001b[0mproperty\u001b[0m\u001b[0;34m\u001b[0m\u001b[0;34m\u001b[0m\u001b[0m\n",
      "\u001b[0;32m~/opt/anaconda3/lib/python3.8/json/__init__.py\u001b[0m in \u001b[0;36mloads\u001b[0;34m(s, cls, object_hook, parse_float, parse_int, parse_constant, object_pairs_hook, **kw)\u001b[0m\n\u001b[1;32m    355\u001b[0m             \u001b[0mparse_int\u001b[0m \u001b[0;32mis\u001b[0m \u001b[0;32mNone\u001b[0m \u001b[0;32mand\u001b[0m \u001b[0mparse_float\u001b[0m \u001b[0;32mis\u001b[0m \u001b[0;32mNone\u001b[0m \u001b[0;32mand\u001b[0m\u001b[0;34m\u001b[0m\u001b[0;34m\u001b[0m\u001b[0m\n\u001b[1;32m    356\u001b[0m             parse_constant is None and object_pairs_hook is None and not kw):\n\u001b[0;32m--> 357\u001b[0;31m         \u001b[0;32mreturn\u001b[0m \u001b[0m_default_decoder\u001b[0m\u001b[0;34m.\u001b[0m\u001b[0mdecode\u001b[0m\u001b[0;34m(\u001b[0m\u001b[0ms\u001b[0m\u001b[0;34m)\u001b[0m\u001b[0;34m\u001b[0m\u001b[0;34m\u001b[0m\u001b[0m\n\u001b[0m\u001b[1;32m    358\u001b[0m     \u001b[0;32mif\u001b[0m \u001b[0mcls\u001b[0m \u001b[0;32mis\u001b[0m \u001b[0;32mNone\u001b[0m\u001b[0;34m:\u001b[0m\u001b[0;34m\u001b[0m\u001b[0;34m\u001b[0m\u001b[0m\n\u001b[1;32m    359\u001b[0m         \u001b[0mcls\u001b[0m \u001b[0;34m=\u001b[0m \u001b[0mJSONDecoder\u001b[0m\u001b[0;34m\u001b[0m\u001b[0;34m\u001b[0m\u001b[0m\n",
      "\u001b[0;32m~/opt/anaconda3/lib/python3.8/json/decoder.py\u001b[0m in \u001b[0;36mdecode\u001b[0;34m(self, s, _w)\u001b[0m\n\u001b[1;32m    335\u001b[0m \u001b[0;34m\u001b[0m\u001b[0m\n\u001b[1;32m    336\u001b[0m         \"\"\"\n\u001b[0;32m--> 337\u001b[0;31m         \u001b[0mobj\u001b[0m\u001b[0;34m,\u001b[0m \u001b[0mend\u001b[0m \u001b[0;34m=\u001b[0m \u001b[0mself\u001b[0m\u001b[0;34m.\u001b[0m\u001b[0mraw_decode\u001b[0m\u001b[0;34m(\u001b[0m\u001b[0ms\u001b[0m\u001b[0;34m,\u001b[0m \u001b[0midx\u001b[0m\u001b[0;34m=\u001b[0m\u001b[0m_w\u001b[0m\u001b[0;34m(\u001b[0m\u001b[0ms\u001b[0m\u001b[0;34m,\u001b[0m \u001b[0;36m0\u001b[0m\u001b[0;34m)\u001b[0m\u001b[0;34m.\u001b[0m\u001b[0mend\u001b[0m\u001b[0;34m(\u001b[0m\u001b[0;34m)\u001b[0m\u001b[0;34m)\u001b[0m\u001b[0;34m\u001b[0m\u001b[0;34m\u001b[0m\u001b[0m\n\u001b[0m\u001b[1;32m    338\u001b[0m         \u001b[0mend\u001b[0m \u001b[0;34m=\u001b[0m \u001b[0m_w\u001b[0m\u001b[0;34m(\u001b[0m\u001b[0ms\u001b[0m\u001b[0;34m,\u001b[0m \u001b[0mend\u001b[0m\u001b[0;34m)\u001b[0m\u001b[0;34m.\u001b[0m\u001b[0mend\u001b[0m\u001b[0;34m(\u001b[0m\u001b[0;34m)\u001b[0m\u001b[0;34m\u001b[0m\u001b[0;34m\u001b[0m\u001b[0m\n\u001b[1;32m    339\u001b[0m         \u001b[0;32mif\u001b[0m \u001b[0mend\u001b[0m \u001b[0;34m!=\u001b[0m \u001b[0mlen\u001b[0m\u001b[0;34m(\u001b[0m\u001b[0ms\u001b[0m\u001b[0;34m)\u001b[0m\u001b[0;34m:\u001b[0m\u001b[0;34m\u001b[0m\u001b[0;34m\u001b[0m\u001b[0m\n",
      "\u001b[0;32m~/opt/anaconda3/lib/python3.8/json/decoder.py\u001b[0m in \u001b[0;36mraw_decode\u001b[0;34m(self, s, idx)\u001b[0m\n\u001b[1;32m    353\u001b[0m             \u001b[0mobj\u001b[0m\u001b[0;34m,\u001b[0m \u001b[0mend\u001b[0m \u001b[0;34m=\u001b[0m \u001b[0mself\u001b[0m\u001b[0;34m.\u001b[0m\u001b[0mscan_once\u001b[0m\u001b[0;34m(\u001b[0m\u001b[0ms\u001b[0m\u001b[0;34m,\u001b[0m \u001b[0midx\u001b[0m\u001b[0;34m)\u001b[0m\u001b[0;34m\u001b[0m\u001b[0;34m\u001b[0m\u001b[0m\n\u001b[1;32m    354\u001b[0m         \u001b[0;32mexcept\u001b[0m \u001b[0mStopIteration\u001b[0m \u001b[0;32mas\u001b[0m \u001b[0merr\u001b[0m\u001b[0;34m:\u001b[0m\u001b[0;34m\u001b[0m\u001b[0;34m\u001b[0m\u001b[0m\n\u001b[0;32m--> 355\u001b[0;31m             \u001b[0;32mraise\u001b[0m \u001b[0mJSONDecodeError\u001b[0m\u001b[0;34m(\u001b[0m\u001b[0;34m\"Expecting value\"\u001b[0m\u001b[0;34m,\u001b[0m \u001b[0ms\u001b[0m\u001b[0;34m,\u001b[0m \u001b[0merr\u001b[0m\u001b[0;34m.\u001b[0m\u001b[0mvalue\u001b[0m\u001b[0;34m)\u001b[0m \u001b[0;32mfrom\u001b[0m \u001b[0;32mNone\u001b[0m\u001b[0;34m\u001b[0m\u001b[0;34m\u001b[0m\u001b[0m\n\u001b[0m\u001b[1;32m    356\u001b[0m         \u001b[0;32mreturn\u001b[0m \u001b[0mobj\u001b[0m\u001b[0;34m,\u001b[0m \u001b[0mend\u001b[0m\u001b[0;34m\u001b[0m\u001b[0;34m\u001b[0m\u001b[0m\n",
      "\u001b[0;31mJSONDecodeError\u001b[0m: Expecting value: line 1 column 1 (char 0)"
     ]
    }
   ],
   "source": [
    "#Creates the initial dataframe \n",
    "#1000 most recent comments at present time (1545243580), filtered to first-tier only\n",
    "url = \"https://api.pushshift.io/reddit/search/comment/?subreddit=askmen&before=1545243580&sort=des&size=1000\"\n",
    "headers = {'User-agent': 'eamonious'}\n",
    "res = requests.get(url, headers=headers)\n",
    "json = res.json()\n",
    "commentsm = pd.DataFrame(json['data'])\n",
    "commentsm = commentsm[['body','created_utc','id','parent_id','score','subreddit']]\n",
    "#Filters for first-tier comments\n",
    "commentsm['parent_id'] = commentsm['parent_id'].map(lambda x: x if 't3_' in x else 0)\n",
    "commentsm = commentsm[commentsm['parent_id']!=0]\n",
    "#Gets rid of mod-removed comments\n",
    "commentsm = commentsm[commentsm['body']!='[removed]']\n",
    "\n",
    "#Loops backward over 12 day intervals, adding the 1000 most recent comments prior to each timepoint,\n",
    "#filtered to first-tier only\n",
    "for i in range(1,80):\n",
    "    url = \"https://api.pushshift.io/reddit/search/comment/?subreddit=askmen&before={}&sort=des&size=1000\".format(1545243580 - i*1036800)\n",
    "    headers = {'User-agent': 'eamonious'}\n",
    "    res = requests.get(url, headers=headers)\n",
    "    json = res.json()\n",
    "    commentbloc = pd.DataFrame(json['data'])\n",
    "    commentbloc = commentbloc[['body','created_utc','id','parent_id','score','subreddit']]\n",
    "    commentbloc['parent_id'] = commentbloc['parent_id'].map(lambda x: x if 't3_' in x else 0)\n",
    "    commentbloc = commentbloc[commentbloc['parent_id']!=0]\n",
    "    commentbloc = commentbloc[commentbloc['body']!='[removed]']\n",
    "    commentsm = pd.concat([commentsm, commentbloc], ignore_index=True)"
   ]
  },
  {
   "cell_type": "code",
   "execution_count": null,
   "metadata": {},
   "outputs": [],
   "source": [
    "len(commentsm)"
   ]
  }
 ],
 "metadata": {
  "kernelspec": {
   "display_name": "Python 3",
   "language": "python",
   "name": "python3"
  },
  "language_info": {
   "codemirror_mode": {
    "name": "ipython",
    "version": 3
   },
   "file_extension": ".py",
   "mimetype": "text/x-python",
   "name": "python",
   "nbconvert_exporter": "python",
   "pygments_lexer": "ipython3",
   "version": "3.8.3"
  }
 },
 "nbformat": 4,
 "nbformat_minor": 4
}
