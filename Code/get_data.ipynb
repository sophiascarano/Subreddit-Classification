{
 "cells": [
  {
   "cell_type": "code",
   "execution_count": 1,
   "metadata": {},
   "outputs": [],
   "source": [
    "import os\n",
    "import math\n",
    "import random\n",
    "import numpy as np\n",
    "import pandas as pd\n",
    "import requests\n",
    "import csv\n",
    "import time\n",
    "from bs4 import BeautifulSoup\n",
    "\n",
    "import matplotlib.pyplot as plt\n",
    "import matplotlib.image as mpimg #another version of opencv display image. I think it's just rendering things that have a height, width, and color dimensionality to them\n",
    "\n",
    "from tensorflow.keras import layers\n",
    "from tensorflow.keras import Model\n",
    "\n",
    "import tensorflow as tf\n",
    "\n",
    "from tensorflow.keras.preprocessing.image import ImageDataGenerator #using because this is a cnn and we want it to handle images in a fast manner\n",
    "from tensorflow.keras.preprocessing.image import img_to_array, load_img\n",
    "\n",
    "from sklearn.naive_bayes import MultinomialNB\n",
    "from sklearn.metrics import accuracy_score\n",
    "from sklearn.model_selection import train_test_split, GridSearchCV\n",
    "from sklearn.feature_extraction.text import CountVectorizer, TfidfVectorizer\n",
    "from sklearn.pipeline import make_pipeline\n",
    "\n",
    "import nltk\n",
    "from nltk.stem import WordNetLemmatizer\n",
    "\n",
    "# Special\n",
    "%matplotlib inline\n",
    "import warnings\n",
    "warnings.filterwarnings(\"ignore\")\n"
   ]
  },
  {
   "cell_type": "code",
   "execution_count": 2,
   "metadata": {},
   "outputs": [],
   "source": [
    "def get_many_requests(subreddit, first_week_number, second_week_number):\n",
    "    url = 'https://api.pushshift.io/reddit/search/submission'\n",
    "    time = 1602126873-(first_week_number*604800)\n",
    "    params = {\n",
    "            'subreddit': subreddit,\n",
    "            'size': 500,\n",
    "        }\n",
    "    res = requests.get(url, params)\n",
    "    data = res.json()\n",
    "    posts_start = data['data']\n",
    "    posts_start_df = pd.DataFrame(posts_start)\n",
    "    posts_start_df = posts_start_df[['subreddit', 'selftext', 'title', 'created_utc']]\n",
    "    for i in range(first_week_number, second_week_number): #start at 1 because I just did zero above, which is what I'm concatenating on\n",
    "        params = {\n",
    "            'subreddit': subreddit,\n",
    "            'size': 500,\n",
    "            'before': time - i*604800 #for each week, it adds 604800 to the timestamp, so we're going back i number of weeks\n",
    "        }\n",
    "        res = requests.get(url, params)\n",
    "        data = res.json()\n",
    "        posts = data['data']\n",
    "        posts_df = pd.DataFrame(posts)\n",
    "        posts_start_df = pd.concat([posts_start_df, posts_df], ignore_index=True)\n",
    "        posts_start_df = posts_start_df[['subreddit', 'selftext', 'title', 'created_utc']]\n",
    "    return posts_start_df"
   ]
  },
  {
   "cell_type": "code",
   "execution_count": 3,
   "metadata": {},
   "outputs": [],
   "source": [
    "#try to automate:\n",
    "def get_weekly_requests(subreddit, max_weeks):\n",
    "    #specify a list that's every 10, up till max weeks, starting from 10 (10, 20, 30, 40)\n",
    "    list_a = list(range(10, max_weeks+1, 10))\n",
    "    list_a_minus_one = list(range(9, max_weeks+1, 10))\n",
    "    #specify a list that's every 10, starting from 1 (1, 11, 21, 31)\n",
    "    list_b = list(range(1, max_weeks+1, 10))\n",
    "    list_b_plus_one = list(range(2, max_weeks+1, 10))\n",
    "    #get requests from the days between each of the values in the list\n",
    "    df_init = pd.DataFrame()\n",
    "    for x in range(len(list_a)):\n",
    "        try:\n",
    "            df = get_many_requests(subreddit=subreddit, first_week_number=list_b[x], second_week_number=list_a[x])\n",
    "\n",
    "            df_drop = df.loc[df['selftext'].str.split().str.len() > 4]\n",
    "            df_drop = df_drop.loc[df_drop['title'].str.split().str.len() > 4]\n",
    "            df_drop = df_drop.drop_duplicates()\n",
    "\n",
    "            df_init = pd.concat([df_init, df_drop], ignore_index=True)\n",
    "        except:\n",
    "            pass\n",
    "        try:\n",
    "            df = get_many_requests(subreddit=subreddit, first_week_number=list_b_plus_one[x], second_week_number=list_a_minus_one[x])\n",
    "\n",
    "            df_drop = df.loc[df['selftext'].str.split().str.len() > 4]\n",
    "            df_drop = df_drop.loc[df_drop['title'].str.split().str.len() > 4]\n",
    "            df_drop = df_drop.drop_duplicates()\n",
    "\n",
    "            df_init = pd.concat([df_init, df_drop], ignore_index=True)\n",
    "        except:\n",
    "            pass\n",
    "        \n",
    "        \n",
    "    return df_init"
   ]
  },
  {
   "cell_type": "code",
   "execution_count": 4,
   "metadata": {},
   "outputs": [],
   "source": [
    "df_phys = get_weekly_requests('physics', 60)"
   ]
  },
  {
   "cell_type": "code",
   "execution_count": 5,
   "metadata": {},
   "outputs": [
    {
     "name": "stdout",
     "output_type": "stream",
     "text": [
      "<class 'pandas.core.frame.DataFrame'>\n",
      "RangeIndex: 1198 entries, 0 to 1197\n",
      "Data columns (total 4 columns):\n",
      " #   Column       Non-Null Count  Dtype \n",
      "---  ------       --------------  ----- \n",
      " 0   subreddit    1198 non-null   object\n",
      " 1   selftext     1198 non-null   object\n",
      " 2   title        1198 non-null   object\n",
      " 3   created_utc  1198 non-null   int64 \n",
      "dtypes: int64(1), object(3)\n",
      "memory usage: 37.6+ KB\n"
     ]
    }
   ],
   "source": [
    "df_phys.info()"
   ]
  },
  {
   "cell_type": "code",
   "execution_count": 6,
   "metadata": {},
   "outputs": [],
   "source": [
    "df_chem = get_weekly_requests('chemistry', 60)"
   ]
  },
  {
   "cell_type": "code",
   "execution_count": 7,
   "metadata": {},
   "outputs": [
    {
     "name": "stdout",
     "output_type": "stream",
     "text": [
      "<class 'pandas.core.frame.DataFrame'>\n",
      "Index: 0 entries\n",
      "Empty DataFrame"
     ]
    }
   ],
   "source": [
    "df_chem.info()"
   ]
  },
  {
   "cell_type": "markdown",
   "metadata": {},
   "source": [
    "# Well, automation didn't work. Let's try something else:"
   ]
  },
  {
   "cell_type": "markdown",
   "metadata": {},
   "source": [
    "## Physics DF:"
   ]
  },
  {
   "cell_type": "code",
   "execution_count": 9,
   "metadata": {},
   "outputs": [
    {
     "name": "stdout",
     "output_type": "stream",
     "text": [
      "<class 'pandas.core.frame.DataFrame'>\n",
      "Int64Index: 356 entries, 1 to 999\n",
      "Data columns (total 4 columns):\n",
      " #   Column       Non-Null Count  Dtype \n",
      "---  ------       --------------  ----- \n",
      " 0   subreddit    356 non-null    object\n",
      " 1   selftext     356 non-null    object\n",
      " 2   title        356 non-null    object\n",
      " 3   created_utc  356 non-null    int64 \n",
      "dtypes: int64(1), object(3)\n",
      "memory usage: 13.9+ KB\n"
     ]
    }
   ],
   "source": [
    "phys_df_0_10 = get_many_requests('physics', 1, 10)\n",
    "phys_df_drop_0_10 = phys_df_0_10.loc[phys_df_0_10['selftext'].str.split().str.len() > 4]\n",
    "phys_df_drop_0_10 = phys_df_drop_0_10.loc[phys_df_drop_0_10['title'].str.split().str.len() > 4]\n",
    "phys_df_drop_0_10 = phys_df_drop_0_10.drop_duplicates()\n",
    "phys_df_drop_0_10.info()"
   ]
  },
  {
   "cell_type": "code",
   "execution_count": 11,
   "metadata": {},
   "outputs": [
    {
     "name": "stdout",
     "output_type": "stream",
     "text": [
      "<class 'pandas.core.frame.DataFrame'>\n",
      "Int64Index: 239 entries, 1 to 897\n",
      "Data columns (total 4 columns):\n",
      " #   Column       Non-Null Count  Dtype \n",
      "---  ------       --------------  ----- \n",
      " 0   subreddit    239 non-null    object\n",
      " 1   selftext     239 non-null    object\n",
      " 2   title        239 non-null    object\n",
      " 3   created_utc  239 non-null    int64 \n",
      "dtypes: int64(1), object(3)\n",
      "memory usage: 9.3+ KB\n"
     ]
    }
   ],
   "source": [
    "phys_df_10_19 = get_many_requests('physics', 11, 19)\n",
    "phys_df_drop_10_19 = phys_df_10_19.loc[phys_df_10_19['selftext'].str.split().str.len() > 4]\n",
    "phys_df_drop_10_19 = phys_df_drop_10_19.loc[phys_df_drop_10_19['title'].str.split().str.len() > 4]\n",
    "phys_df_drop_10_19 = phys_df_drop_10_19.drop_duplicates()\n",
    "phys_df_drop_10_19.info()"
   ]
  },
  {
   "cell_type": "code",
   "execution_count": 12,
   "metadata": {},
   "outputs": [
    {
     "name": "stdout",
     "output_type": "stream",
     "text": [
      "<class 'pandas.core.frame.DataFrame'>\n",
      "Int64Index: 322 entries, 1 to 898\n",
      "Data columns (total 4 columns):\n",
      " #   Column       Non-Null Count  Dtype \n",
      "---  ------       --------------  ----- \n",
      " 0   subreddit    322 non-null    object\n",
      " 1   selftext     322 non-null    object\n",
      " 2   title        322 non-null    object\n",
      " 3   created_utc  322 non-null    int64 \n",
      "dtypes: int64(1), object(3)\n",
      "memory usage: 12.6+ KB\n"
     ]
    }
   ],
   "source": [
    "phys_df_20_29 = get_many_requests('physics', 21, 29)\n",
    "phys_df_drop_20_29 = phys_df_20_29.loc[phys_df_20_29['selftext'].str.split().str.len() > 4]\n",
    "phys_df_drop_20_29 = phys_df_drop_20_29.loc[phys_df_drop_20_29['title'].str.split().str.len() > 4]\n",
    "phys_df_drop_20_29 = phys_df_drop_20_29.drop_duplicates()\n",
    "phys_df_drop_20_29.info()"
   ]
  },
  {
   "cell_type": "code",
   "execution_count": 15,
   "metadata": {},
   "outputs": [
    {
     "name": "stdout",
     "output_type": "stream",
     "text": [
      "<class 'pandas.core.frame.DataFrame'>\n",
      "Int64Index: 318 entries, 1 to 988\n",
      "Data columns (total 4 columns):\n",
      " #   Column       Non-Null Count  Dtype \n",
      "---  ------       --------------  ----- \n",
      " 0   subreddit    318 non-null    object\n",
      " 1   selftext     318 non-null    object\n",
      " 2   title        318 non-null    object\n",
      " 3   created_utc  318 non-null    int64 \n",
      "dtypes: int64(1), object(3)\n",
      "memory usage: 12.4+ KB\n"
     ]
    }
   ],
   "source": [
    "phys_df_30_39 = get_many_requests('physics', 30, 39)\n",
    "phys_df_drop_30_39 = phys_df_30_39.loc[phys_df_30_39['selftext'].str.split().str.len() > 4]\n",
    "phys_df_drop_30_39 = phys_df_drop_30_39.loc[phys_df_drop_30_39['title'].str.split().str.len() > 4]\n",
    "phys_df_drop_30_39 = phys_df_drop_30_39.drop_duplicates()\n",
    "phys_df_drop_30_39.info()"
   ]
  },
  {
   "cell_type": "code",
   "execution_count": 20,
   "metadata": {},
   "outputs": [
    {
     "name": "stdout",
     "output_type": "stream",
     "text": [
      "<class 'pandas.core.frame.DataFrame'>\n",
      "Int64Index: 306 entries, 1 to 999\n",
      "Data columns (total 4 columns):\n",
      " #   Column       Non-Null Count  Dtype \n",
      "---  ------       --------------  ----- \n",
      " 0   subreddit    306 non-null    object\n",
      " 1   selftext     306 non-null    object\n",
      " 2   title        306 non-null    object\n",
      " 3   created_utc  306 non-null    int64 \n",
      "dtypes: int64(1), object(3)\n",
      "memory usage: 12.0+ KB\n"
     ]
    }
   ],
   "source": [
    "phys_df_40_49 = get_many_requests('physics', 40, 49)\n",
    "phys_df_drop_40_49 = phys_df_40_49.loc[phys_df_40_49['selftext'].str.split().str.len() > 4]\n",
    "phys_df_drop_40_49 = phys_df_drop_40_49.loc[phys_df_drop_40_49['title'].str.split().str.len() > 4]\n",
    "phys_df_drop_40_49 = phys_df_drop_40_49.drop_duplicates()\n",
    "phys_df_drop_40_49.info()"
   ]
  },
  {
   "cell_type": "code",
   "execution_count": 21,
   "metadata": {},
   "outputs": [
    {
     "name": "stdout",
     "output_type": "stream",
     "text": [
      "<class 'pandas.core.frame.DataFrame'>\n",
      "Int64Index: 334 entries, 1 to 997\n",
      "Data columns (total 4 columns):\n",
      " #   Column       Non-Null Count  Dtype \n",
      "---  ------       --------------  ----- \n",
      " 0   subreddit    334 non-null    object\n",
      " 1   selftext     334 non-null    object\n",
      " 2   title        334 non-null    object\n",
      " 3   created_utc  334 non-null    int64 \n",
      "dtypes: int64(1), object(3)\n",
      "memory usage: 13.0+ KB\n"
     ]
    }
   ],
   "source": [
    "phys_df_50_59 = get_many_requests('physics', 50, 59)\n",
    "phys_df_drop_50_59 = phys_df_50_59.loc[phys_df_50_59['selftext'].str.split().str.len() > 4]\n",
    "phys_df_drop_50_59 = phys_df_drop_50_59.loc[phys_df_drop_50_59['title'].str.split().str.len() > 4]\n",
    "phys_df_drop_50_59 = phys_df_drop_50_59.drop_duplicates()\n",
    "phys_df_drop_50_59.info()"
   ]
  },
  {
   "cell_type": "code",
   "execution_count": 22,
   "metadata": {},
   "outputs": [],
   "source": [
    "#now concatenate all of these to get one final dataframe\n",
    "phys_df = pd.concat([phys_df_drop_0_10, \n",
    "                     phys_df_drop_10_19, \n",
    "                     phys_df_drop_20_29, \n",
    "                     phys_df_drop_30_39,\n",
    "                     phys_df_drop_40_49,\n",
    "                     phys_df_drop_50_59\n",
    "                    ], ignore_index=True)"
   ]
  },
  {
   "cell_type": "code",
   "execution_count": 23,
   "metadata": {},
   "outputs": [
    {
     "name": "stdout",
     "output_type": "stream",
     "text": [
      "<class 'pandas.core.frame.DataFrame'>\n",
      "RangeIndex: 1875 entries, 0 to 1874\n",
      "Data columns (total 4 columns):\n",
      " #   Column       Non-Null Count  Dtype \n",
      "---  ------       --------------  ----- \n",
      " 0   subreddit    1875 non-null   object\n",
      " 1   selftext     1875 non-null   object\n",
      " 2   title        1875 non-null   object\n",
      " 3   created_utc  1875 non-null   int64 \n",
      "dtypes: int64(1), object(3)\n",
      "memory usage: 58.7+ KB\n"
     ]
    }
   ],
   "source": [
    "phys_df.info()"
   ]
  },
  {
   "cell_type": "markdown",
   "metadata": {},
   "source": [
    "## Chemistry DF:"
   ]
  },
  {
   "cell_type": "code",
   "execution_count": 24,
   "metadata": {},
   "outputs": [
    {
     "name": "stdout",
     "output_type": "stream",
     "text": [
      "<class 'pandas.core.frame.DataFrame'>\n",
      "Int64Index: 297 entries, 7 to 996\n",
      "Data columns (total 4 columns):\n",
      " #   Column       Non-Null Count  Dtype \n",
      "---  ------       --------------  ----- \n",
      " 0   subreddit    297 non-null    object\n",
      " 1   selftext     297 non-null    object\n",
      " 2   title        297 non-null    object\n",
      " 3   created_utc  297 non-null    int64 \n",
      "dtypes: int64(1), object(3)\n",
      "memory usage: 11.6+ KB\n"
     ]
    }
   ],
   "source": [
    "chem_df_0_10 = get_many_requests('chemistry', 1, 10)\n",
    "chem_df_drop_0_10 = chem_df_0_10.loc[chem_df_0_10['selftext'].str.split().str.len() > 4]\n",
    "chem_df_drop_0_10 = chem_df_drop_0_10.loc[chem_df_drop_0_10['title'].str.split().str.len() > 4]\n",
    "chem_df_drop_0_10 = chem_df_drop_0_10.drop_duplicates()\n",
    "chem_df_drop_0_10.info()"
   ]
  },
  {
   "cell_type": "code",
   "execution_count": 25,
   "metadata": {},
   "outputs": [
    {
     "name": "stdout",
     "output_type": "stream",
     "text": [
      "<class 'pandas.core.frame.DataFrame'>\n",
      "Int64Index: 248 entries, 7 to 898\n",
      "Data columns (total 4 columns):\n",
      " #   Column       Non-Null Count  Dtype \n",
      "---  ------       --------------  ----- \n",
      " 0   subreddit    248 non-null    object\n",
      " 1   selftext     248 non-null    object\n",
      " 2   title        248 non-null    object\n",
      " 3   created_utc  248 non-null    int64 \n",
      "dtypes: int64(1), object(3)\n",
      "memory usage: 9.7+ KB\n"
     ]
    }
   ],
   "source": [
    "chem_df_10_19 = get_many_requests('chemistry', 11, 19)\n",
    "chem_df_drop_10_19 = chem_df_10_19.loc[chem_df_10_19['selftext'].str.split().str.len() > 4]\n",
    "chem_df_drop_10_19 = chem_df_drop_10_19.loc[chem_df_drop_10_19['title'].str.split().str.len() > 4]\n",
    "chem_df_drop_10_19 = chem_df_drop_10_19.drop_duplicates()\n",
    "chem_df_drop_10_19.info()"
   ]
  },
  {
   "cell_type": "code",
   "execution_count": 26,
   "metadata": {},
   "outputs": [
    {
     "name": "stdout",
     "output_type": "stream",
     "text": [
      "<class 'pandas.core.frame.DataFrame'>\n",
      "Int64Index: 312 entries, 7 to 999\n",
      "Data columns (total 4 columns):\n",
      " #   Column       Non-Null Count  Dtype \n",
      "---  ------       --------------  ----- \n",
      " 0   subreddit    312 non-null    object\n",
      " 1   selftext     312 non-null    object\n",
      " 2   title        312 non-null    object\n",
      " 3   created_utc  312 non-null    int64 \n",
      "dtypes: int64(1), object(3)\n",
      "memory usage: 12.2+ KB\n"
     ]
    }
   ],
   "source": [
    "chem_df_20_29 = get_many_requests('chemistry', 20, 29)\n",
    "chem_df_drop_20_29 = chem_df_20_29.loc[chem_df_20_29['selftext'].str.split().str.len() > 4]\n",
    "chem_df_drop_20_29 = chem_df_drop_20_29.loc[chem_df_drop_20_29['title'].str.split().str.len() > 4]\n",
    "chem_df_drop_20_29 = chem_df_drop_20_29.drop_duplicates()\n",
    "chem_df_drop_20_29.info()"
   ]
  },
  {
   "cell_type": "code",
   "execution_count": 32,
   "metadata": {},
   "outputs": [
    {
     "name": "stdout",
     "output_type": "stream",
     "text": [
      "<class 'pandas.core.frame.DataFrame'>\n",
      "Int64Index: 330 entries, 7 to 897\n",
      "Data columns (total 4 columns):\n",
      " #   Column       Non-Null Count  Dtype \n",
      "---  ------       --------------  ----- \n",
      " 0   subreddit    330 non-null    object\n",
      " 1   selftext     330 non-null    object\n",
      " 2   title        330 non-null    object\n",
      " 3   created_utc  330 non-null    int64 \n",
      "dtypes: int64(1), object(3)\n",
      "memory usage: 12.9+ KB\n"
     ]
    }
   ],
   "source": [
    "chem_df_30_39 = get_many_requests('chemistry', 30, 38)\n",
    "chem_df_drop_30_39 = chem_df_30_39.loc[chem_df_30_39['selftext'].str.split().str.len() > 4]\n",
    "chem_df_drop_30_39 = chem_df_drop_30_39.loc[chem_df_drop_30_39['title'].str.split().str.len() > 4]\n",
    "chem_df_drop_30_39 = chem_df_drop_30_39.drop_duplicates()\n",
    "chem_df_drop_30_39.info()"
   ]
  },
  {
   "cell_type": "code",
   "execution_count": 39,
   "metadata": {},
   "outputs": [
    {
     "name": "stdout",
     "output_type": "stream",
     "text": [
      "<class 'pandas.core.frame.DataFrame'>\n",
      "Int64Index: 375 entries, 7 to 998\n",
      "Data columns (total 4 columns):\n",
      " #   Column       Non-Null Count  Dtype \n",
      "---  ------       --------------  ----- \n",
      " 0   subreddit    375 non-null    object\n",
      " 1   selftext     375 non-null    object\n",
      " 2   title        375 non-null    object\n",
      " 3   created_utc  375 non-null    int64 \n",
      "dtypes: int64(1), object(3)\n",
      "memory usage: 14.6+ KB\n"
     ]
    }
   ],
   "source": [
    "chem_df_40_49 = get_many_requests('chemistry', 40, 49)\n",
    "chem_df_drop_40_49 = chem_df_40_49.loc[chem_df_40_49['selftext'].str.split().str.len() > 4]\n",
    "chem_df_drop_40_49 = chem_df_drop_40_49.loc[chem_df_drop_40_49['title'].str.split().str.len() > 4]\n",
    "chem_df_drop_40_49 = chem_df_drop_40_49.drop_duplicates()\n",
    "chem_df_drop_40_49.info()"
   ]
  },
  {
   "cell_type": "code",
   "execution_count": 40,
   "metadata": {},
   "outputs": [
    {
     "name": "stdout",
     "output_type": "stream",
     "text": [
      "<class 'pandas.core.frame.DataFrame'>\n",
      "Int64Index: 409 entries, 7 to 998\n",
      "Data columns (total 4 columns):\n",
      " #   Column       Non-Null Count  Dtype \n",
      "---  ------       --------------  ----- \n",
      " 0   subreddit    409 non-null    object\n",
      " 1   selftext     409 non-null    object\n",
      " 2   title        409 non-null    object\n",
      " 3   created_utc  409 non-null    int64 \n",
      "dtypes: int64(1), object(3)\n",
      "memory usage: 16.0+ KB\n"
     ]
    }
   ],
   "source": [
    "chem_df_50_59 = get_many_requests('chemistry', 50, 59)\n",
    "chem_df_drop_50_59 = chem_df_50_59.loc[chem_df_50_59['selftext'].str.split().str.len() > 4]\n",
    "chem_df_drop_50_59 = chem_df_drop_50_59.loc[chem_df_drop_50_59['title'].str.split().str.len() > 4]\n",
    "chem_df_drop_50_59 = chem_df_drop_50_59.drop_duplicates()\n",
    "chem_df_drop_50_59.info()"
   ]
  },
  {
   "cell_type": "code",
   "execution_count": 41,
   "metadata": {},
   "outputs": [],
   "source": [
    "chem_df = pd.concat([chem_df_drop_0_10, \n",
    "                     chem_df_drop_10_19, \n",
    "                     chem_df_drop_20_29, \n",
    "                     chem_df_drop_30_39,\n",
    "                     chem_df_drop_40_49,\n",
    "                     chem_df_drop_50_59\n",
    "                    ], ignore_index=True)"
   ]
  },
  {
   "cell_type": "code",
   "execution_count": 42,
   "metadata": {},
   "outputs": [
    {
     "name": "stdout",
     "output_type": "stream",
     "text": [
      "<class 'pandas.core.frame.DataFrame'>\n",
      "RangeIndex: 1971 entries, 0 to 1970\n",
      "Data columns (total 4 columns):\n",
      " #   Column       Non-Null Count  Dtype \n",
      "---  ------       --------------  ----- \n",
      " 0   subreddit    1971 non-null   object\n",
      " 1   selftext     1971 non-null   object\n",
      " 2   title        1971 non-null   object\n",
      " 3   created_utc  1971 non-null   int64 \n",
      "dtypes: int64(1), object(3)\n",
      "memory usage: 61.7+ KB\n"
     ]
    }
   ],
   "source": [
    "chem_df.info()"
   ]
  },
  {
   "cell_type": "markdown",
   "metadata": {},
   "source": [
    "## All together, now:"
   ]
  },
  {
   "cell_type": "code",
   "execution_count": 43,
   "metadata": {},
   "outputs": [],
   "source": [
    "df_clean = pd.concat([phys_df, chem_df], ignore_index=True)"
   ]
  },
  {
   "cell_type": "code",
   "execution_count": 44,
   "metadata": {},
   "outputs": [
    {
     "name": "stdout",
     "output_type": "stream",
     "text": [
      "<class 'pandas.core.frame.DataFrame'>\n",
      "RangeIndex: 3846 entries, 0 to 3845\n",
      "Data columns (total 4 columns):\n",
      " #   Column       Non-Null Count  Dtype \n",
      "---  ------       --------------  ----- \n",
      " 0   subreddit    3846 non-null   object\n",
      " 1   selftext     3846 non-null   object\n",
      " 2   title        3846 non-null   object\n",
      " 3   created_utc  3846 non-null   int64 \n",
      "dtypes: int64(1), object(3)\n",
      "memory usage: 120.3+ KB\n"
     ]
    }
   ],
   "source": [
    "df_clean.info()"
   ]
  },
  {
   "cell_type": "code",
   "execution_count": 45,
   "metadata": {},
   "outputs": [
    {
     "data": {
      "text/html": [
       "<div>\n",
       "<style scoped>\n",
       "    .dataframe tbody tr th:only-of-type {\n",
       "        vertical-align: middle;\n",
       "    }\n",
       "\n",
       "    .dataframe tbody tr th {\n",
       "        vertical-align: top;\n",
       "    }\n",
       "\n",
       "    .dataframe thead th {\n",
       "        text-align: right;\n",
       "    }\n",
       "</style>\n",
       "<table border=\"1\" class=\"dataframe\">\n",
       "  <thead>\n",
       "    <tr style=\"text-align: right;\">\n",
       "      <th></th>\n",
       "      <th>subreddit</th>\n",
       "      <th>selftext</th>\n",
       "      <th>title</th>\n",
       "      <th>created_utc</th>\n",
       "    </tr>\n",
       "  </thead>\n",
       "  <tbody>\n",
       "    <tr>\n",
       "      <th>0</th>\n",
       "      <td>Physics</td>\n",
       "      <td>I am planning to set up a home PC with AMD Ryz...</td>\n",
       "      <td>Choice of GPU for running MD simulation (NAMD ...</td>\n",
       "      <td>1602229416</td>\n",
       "    </tr>\n",
       "    <tr>\n",
       "      <th>1</th>\n",
       "      <td>Physics</td>\n",
       "      <td>Ok, So I have a bit of a bizarre question. (I ...</td>\n",
       "      <td>Balance Bird vs Spin top</td>\n",
       "      <td>1602217793</td>\n",
       "    </tr>\n",
       "    <tr>\n",
       "      <th>2</th>\n",
       "      <td>Physics</td>\n",
       "      <td>Would this account for spin?  Observations in ...</td>\n",
       "      <td>Do electrons have convective cores?</td>\n",
       "      <td>1602209419</td>\n",
       "    </tr>\n",
       "    <tr>\n",
       "      <th>3</th>\n",
       "      <td>Physics</td>\n",
       "      <td>According to the [Bekenstein bound](https://en...</td>\n",
       "      <td>Is quantum computing dangerous or impposible?</td>\n",
       "      <td>1602197913</td>\n",
       "    </tr>\n",
       "    <tr>\n",
       "      <th>4</th>\n",
       "      <td>Physics</td>\n",
       "      <td>So I understand conceptually the Big Rip, but ...</td>\n",
       "      <td>On The Big Rip, and The Mighty Quark</td>\n",
       "      <td>1602195737</td>\n",
       "    </tr>\n",
       "  </tbody>\n",
       "</table>\n",
       "</div>"
      ],
      "text/plain": [
       "  subreddit                                           selftext  \\\n",
       "0   Physics  I am planning to set up a home PC with AMD Ryz...   \n",
       "1   Physics  Ok, So I have a bit of a bizarre question. (I ...   \n",
       "2   Physics  Would this account for spin?  Observations in ...   \n",
       "3   Physics  According to the [Bekenstein bound](https://en...   \n",
       "4   Physics  So I understand conceptually the Big Rip, but ...   \n",
       "\n",
       "                                               title  created_utc  \n",
       "0  Choice of GPU for running MD simulation (NAMD ...   1602229416  \n",
       "1                           Balance Bird vs Spin top   1602217793  \n",
       "2                Do electrons have convective cores?   1602209419  \n",
       "3      Is quantum computing dangerous or impposible?   1602197913  \n",
       "4               On The Big Rip, and The Mighty Quark   1602195737  "
      ]
     },
     "execution_count": 45,
     "metadata": {},
     "output_type": "execute_result"
    }
   ],
   "source": [
    "df_clean.head()"
   ]
  },
  {
   "cell_type": "code",
   "execution_count": 50,
   "metadata": {},
   "outputs": [],
   "source": [
    "# Create csv of data:\n",
    "df_clean.to_csv(r'./data/phys_chem_reddit_data.csv', index = False)"
   ]
  },
  {
   "cell_type": "code",
   "execution_count": null,
   "metadata": {},
   "outputs": [],
   "source": []
  },
  {
   "cell_type": "code",
   "execution_count": null,
   "metadata": {},
   "outputs": [],
   "source": []
  },
  {
   "cell_type": "code",
   "execution_count": null,
   "metadata": {},
   "outputs": [],
   "source": []
  },
  {
   "cell_type": "code",
   "execution_count": null,
   "metadata": {},
   "outputs": [],
   "source": []
  },
  {
   "cell_type": "code",
   "execution_count": null,
   "metadata": {},
   "outputs": [],
   "source": []
  },
  {
   "cell_type": "code",
   "execution_count": null,
   "metadata": {},
   "outputs": [],
   "source": []
  },
  {
   "cell_type": "code",
   "execution_count": null,
   "metadata": {},
   "outputs": [],
   "source": []
  },
  {
   "cell_type": "markdown",
   "metadata": {},
   "source": [
    "# This is supposed to be in the 'Modeling' code"
   ]
  },
  {
   "cell_type": "code",
   "execution_count": null,
   "metadata": {},
   "outputs": [],
   "source": [
    "#this also assumes we have gone through preprocessing"
   ]
  },
  {
   "cell_type": "markdown",
   "metadata": {},
   "source": [
    "## Naive Bayes"
   ]
  },
  {
   "cell_type": "code",
   "execution_count": 65,
   "metadata": {},
   "outputs": [
    {
     "data": {
      "text/plain": [
       "<matplotlib.axes._subplots.AxesSubplot at 0x7f8c1d7fdf10>"
      ]
     },
     "execution_count": 65,
     "metadata": {},
     "output_type": "execute_result"
    },
    {
     "data": {
      "image/png": "[encoded data removed]",
      "text/plain": [
       "<Figure size 1152x432 with 1 Axes>"
      ]
     },
     "metadata": {
      "needs_background": "light"
     },
     "output_type": "display_data"
    }
   ],
   "source": [
    "#results\n",
    "pd.DataFrame(grid.cv_results_)['mean_test_score'].plot(figsize = (16, 6))"
   ]
  },
  {
   "cell_type": "code",
   "execution_count": 66,
   "metadata": {},
   "outputs": [
    {
     "data": {
      "text/plain": [
       "{'countvectorizer__max_df': 0.5,\n",
       " 'countvectorizer__max_features': 200,\n",
       " 'countvectorizer__min_df': 10,\n",
       " 'countvectorizer__ngram_range': (1, 3)}"
      ]
     },
     "execution_count": 66,
     "metadata": {},
     "output_type": "execute_result"
    }
   ],
   "source": [
    "#examine the best parameters\n",
    "grid.best_params_"
   ]
  },
  {
   "cell_type": "code",
   "execution_count": 67,
   "metadata": {},
   "outputs": [
    {
     "data": {
      "text/plain": [
       "<matplotlib.axes._subplots.AxesSubplot at 0x7f8c003c1eb0>"
      ]
     },
     "execution_count": 67,
     "metadata": {},
     "output_type": "execute_result"
    },
    {
     "data": {
      "image/png": "[encoded data removed]",
      "text/plain": [
       "<Figure size 1152x432 with 1 Axes>"
      ]
     },
     "metadata": {
      "needs_background": "light"
     },
     "output_type": "display_data"
    }
   ],
   "source": [
    "#what's going on here?  what should we do?\n",
    "pd.DataFrame(grid.cv_results_).plot(figsize = (16,6))"
   ]
  },
  {
   "cell_type": "markdown",
   "metadata": {},
   "source": [
    "# Requirements left:\n",
    "- text data successfully converted to a numeric representation\n",
    "- methods such as stop words, stemming, and lemmatization are explored\n"
   ]
  },
  {
   "cell_type": "code",
   "execution_count": null,
   "metadata": {},
   "outputs": [],
   "source": []
  }
 ],
 "metadata": {
  "kernelspec": {
   "display_name": "Python 3",
   "language": "python",
   "name": "python3"
  },
  "language_info": {
   "codemirror_mode": {
    "name": "ipython",
    "version": 3
   },
   "file_extension": ".py",
   "mimetype": "text/x-python",
   "name": "python",
   "nbconvert_exporter": "python",
   "pygments_lexer": "ipython3",
   "version": "3.8.3"
  }
 },
 "nbformat": 4,
 "nbformat_minor": 4
}
